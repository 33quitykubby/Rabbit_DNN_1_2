{
  "nbformat": 4,
  "nbformat_minor": 0,
  "metadata": {
    "colab": {
      "name": "Rabbit_DNN_1_backpropagation.ipynb",
      "provenance": [],
      "collapsed_sections": [],
      "toc_visible": true,
      "include_colab_link": true
    },
    "kernelspec": {
      "display_name": "Python 3",
      "name": "python3"
    }
  },
  "cells": [
    {
      "cell_type": "markdown",
      "metadata": {
        "id": "view-in-github",
        "colab_type": "text"
      },
      "source": [
        "<a href=\"https://colab.research.google.com/github/33quitykubby/Rabbit_DNN_1_2/blob/main/Rabbit_DNN_1_backpropagation.ipynb\" target=\"_parent\"><img src=\"https://colab.research.google.com/assets/colab-badge.svg\" alt=\"Open In Colab\"/></a>"
      ]
    },
    {
      "cell_type": "markdown",
      "metadata": {
        "id": "ndo0gsKs29oE"
      },
      "source": [
        "# 誤差逆伝播\n",
        "\n"
      ]
    },
    {
      "cell_type": "markdown",
      "metadata": {
        "id": "aFawz7zCioGw"
      },
      "source": [
        "# 日本時間にする"
      ]
    },
    {
      "cell_type": "code",
      "metadata": {
        "colab": {
          "base_uri": "https://localhost:8080/"
        },
        "id": "Qqk7xVQXilAv",
        "outputId": "d821eb2e-c176-4c7e-d2ee-e1d0b485fc08"
      },
      "source": [
        "  !rm /etc/localtime\n",
        "  !ln -s /usr/share/zoneinfo/Asia/Tokyo /etc/localtime\n",
        "  !date"
      ],
      "execution_count": null,
      "outputs": [
        {
          "output_type": "stream",
          "text": [
            "Sat Apr 24 07:19:06 JST 2021\n"
          ],
          "name": "stdout"
        }
      ]
    },
    {
      "cell_type": "markdown",
      "metadata": {
        "id": "0XSgZcpT4tkC"
      },
      "source": [
        "# ライブラリのインポート"
      ]
    },
    {
      "cell_type": "code",
      "metadata": {
        "id": "9hlcGt_j4tkD"
      },
      "source": [
        "import pandas as pd\n",
        "import numpy as np\n",
        "\n",
        "from matplotlib import pyplot as plt\n",
        "%matplotlib inline\n",
        "\n",
        "import os\n",
        "import glob\n",
        "\n",
        "import librosa\n",
        "\n",
        "import datetime\n",
        "\n",
        "import gc\n",
        "\n",
        "from sklearn.datasets import load_boston\n",
        "from pandas import DataFrame"
      ],
      "execution_count": null,
      "outputs": []
    },
    {
      "cell_type": "code",
      "metadata": {
        "colab": {
          "base_uri": "https://localhost:8080/"
        },
        "id": "l3Kfi-5YVRYV",
        "outputId": "83adc8c5-c24f-42d9-ad1b-54c40fd98a1c"
      },
      "source": [
        "#開始時刻\n",
        "start_time = datetime.datetime.now(datetime.timezone(datetime.timedelta(hours=9)))\n",
        "print(\"start_time=\",start_time)"
      ],
      "execution_count": null,
      "outputs": [
        {
          "output_type": "stream",
          "text": [
            "start_time= 2021-04-24 07:19:06.465109+09:00\n"
          ],
          "name": "stdout"
        }
      ]
    },
    {
      "cell_type": "markdown",
      "metadata": {
        "id": "UdzrJm_XYr17"
      },
      "source": [
        "# 乱数シードの初期化\n",
        "\n",
        "\n",
        "\n",
        "\n"
      ]
    },
    {
      "cell_type": "code",
      "metadata": {
        "id": "wNUHyFvYF1_Z"
      },
      "source": [
        "import os \n",
        "import numpy as np\n",
        "from sklearn import model_selection\n",
        "import tensorflow as tf\n",
        "import random\n",
        "\n",
        "COMMON_SEED = 0\n",
        "STANDARD_SEED = 0\n",
        "NP_SEED = 0\n",
        "TF_SEED = 0 \n",
        "\n",
        "# np.random.seed(STANDARD_SEED)\n",
        "# random.seed(NP_SEED)\n",
        "# tf.random.set_seed(TF_SEED)\n",
        "\n",
        "def seed_everything():\n",
        "    random.seed(STANDARD_SEED)\n",
        "    os.environ['PYTHONHASHSEED'] = str(COMMON_SEED)\n",
        "    os.environ['TF_DETERMINISTIC_OPS'] = '1'\n",
        "    os.environ['TF_CUDNN_DETERMINISTIC'] = '1'\n",
        "    np.random.seed(NP_SEED)\n",
        "    tf.random.set_seed(TF_SEED)\n",
        "    session_conf = tf.compat.v1.ConfigProto(\n",
        "        intra_op_parallelism_threads=1,\n",
        "        inter_op_parallelism_threads=1\n",
        "    )\n",
        "    sess = tf.compat.v1.Session(graph=tf.compat.v1.get_default_graph(), config=session_conf)\n",
        "    tf.compat.v1.keras.backend.set_session(sess)\n"
      ],
      "execution_count": null,
      "outputs": []
    },
    {
      "cell_type": "code",
      "metadata": {
        "id": "9AOmh1f2uhww"
      },
      "source": [
        "#乱数シード固定\n",
        "\n",
        "seed_everything()"
      ],
      "execution_count": null,
      "outputs": []
    },
    {
      "cell_type": "markdown",
      "metadata": {
        "id": "V3KtRk3Eipe8"
      },
      "source": [
        "# パス定義"
      ]
    },
    {
      "cell_type": "code",
      "metadata": {
        "id": "0EErzFsxdELb"
      },
      "source": [
        ""
      ],
      "execution_count": null,
      "outputs": []
    },
    {
      "cell_type": "markdown",
      "metadata": {
        "id": "64ISn75d9oQo"
      },
      "source": [
        "# 順伝播　（単層）\n",
        "\n"
      ]
    },
    {
      "cell_type": "code",
      "metadata": {
        "id": "yywexNcbrERb"
      },
      "source": [
        "#活性化関数(恒等関数)\n",
        "\n",
        "def func_identity (u):\n",
        "  #出力\n",
        "  z = u #恒等関数\n",
        "  return z"
      ],
      "execution_count": null,
      "outputs": []
    },
    {
      "cell_type": "code",
      "metadata": {
        "id": "XR60LTMR9ser"
      },
      "source": [
        "#順伝播　単層　単ユニット\n",
        "\n",
        "def forward(W, b, x):\n",
        "  #総入力\n",
        "  u = np.dot(x, W) + b\n",
        "  # print(\"u=x・w + b=\",u)\n",
        "\n",
        "  return func_identity(u)\n"
      ],
      "execution_count": null,
      "outputs": []
    },
    {
      "cell_type": "code",
      "metadata": {
        "colab": {
          "base_uri": "https://localhost:8080/"
        },
        "id": "CFxfZNkYrxoL",
        "outputId": "dcf2416a-33dc-4e69-daee-ea1376fd769c"
      },
      "source": [
        "#計算\n",
        "\n",
        "#重み\n",
        "W = np.array([[0.1],[0.2],[0.3]]) #3行一列\n",
        "print(\"W.shape=\",W.shape)\n",
        "print(\"W=\",W)\n",
        "\n",
        "#バイアス\n",
        "b=0.5\n",
        "print(\"b=\",b)\n",
        "\n",
        "#入力値\n",
        "x = np.array([2,3,5])#1行三列\n",
        "print(\"x.shape=\",x.shape) \n",
        "print(\"x=\",x) \n",
        "\n",
        "z = forward(W, b, x)\n",
        "print(\"---------------------------------\")\n",
        "print(\"z=\",z)"
      ],
      "execution_count": null,
      "outputs": [
        {
          "output_type": "stream",
          "text": [
            "W.shape= (3, 1)\n",
            "W= [[0.1]\n",
            " [0.2]\n",
            " [0.3]]\n",
            "b= 0.5\n",
            "x.shape= (3,)\n",
            "x= [2 3 5]\n",
            "---------------------------------\n",
            "z= [2.8]\n"
          ],
          "name": "stdout"
        }
      ]
    },
    {
      "cell_type": "markdown",
      "metadata": {
        "id": "hDHCh1zLmJDC"
      },
      "source": [
        "# 誤差関数 (二乗和誤差）\n",
        "\n",
        "正解値 d=4とする  \n",
        "\n",
        "二乗和誤差\n",
        "$$E= \\frac{1}{2}\\sum_{k}{(y_k-t_k)^2}$$\n"
      ]
    },
    {
      "cell_type": "code",
      "metadata": {
        "id": "5V5zYVJSmJDK"
      },
      "source": [
        "def sum_squared_error(y, d):\n",
        "  return 0.5*sum((y - d)**2)"
      ],
      "execution_count": null,
      "outputs": []
    },
    {
      "cell_type": "code",
      "metadata": {
        "colab": {
          "base_uri": "https://localhost:8080/"
        },
        "id": "LNZsKDtSnyVV",
        "outputId": "034b1a2b-121f-4e3b-fcd7-35bf65a9119f"
      },
      "source": [
        "d = 4\n",
        "\n",
        "E = sum_squared_error(z, d)\n",
        "print(\"E.shape=\",E.shape)\n",
        "print(\"E=\",E)\n"
      ],
      "execution_count": null,
      "outputs": [
        {
          "output_type": "stream",
          "text": [
            "E.shape= ()\n",
            "E= 0.7200000000000002\n"
          ],
          "name": "stdout"
        }
      ]
    },
    {
      "cell_type": "markdown",
      "metadata": {
        "id": "M87v15hKoyJs"
      },
      "source": [
        "# 誤差逆伝播による重み、バイアス更新量計算"
      ]
    },
    {
      "cell_type": "code",
      "metadata": {
        "id": "jLC6g6zYo-55"
      },
      "source": [
        "def backward(z, d, x):\n",
        "  # (yj-dj)*xi\n",
        "  dW = (z - d) * x\n",
        "\n",
        "  print(dW.shape[0])\n",
        "  dW = dW.reshape(dW.shape[0],-1)\n",
        "\n",
        "  # (yj-dj)*1\n",
        "  db = (z - d) \n",
        "\n",
        "  return dW, db"
      ],
      "execution_count": null,
      "outputs": []
    },
    {
      "cell_type": "code",
      "metadata": {
        "colab": {
          "base_uri": "https://localhost:8080/"
        },
        "id": "Iw1KzEvKswAQ",
        "outputId": "58407954-1d43-4b6e-9a13-0dd9067a6373"
      },
      "source": [
        "# 重み更新量計算\n",
        "\n",
        "dW , db = backward(z, d, x)\n",
        "\n",
        "print(\"dW=\",dW)\n",
        "print(\"dW.shape=\",dW.shape)\n",
        "print(\"db=\",db)\n",
        "print(\"db.shape=\",db.shape)\n"
      ],
      "execution_count": null,
      "outputs": [
        {
          "output_type": "stream",
          "text": [
            "3\n",
            "dW= [[-2.4]\n",
            " [-3.6]\n",
            " [-6. ]]\n",
            "dW.shape= (3, 1)\n",
            "db= [-1.2]\n",
            "db.shape= (1,)\n"
          ],
          "name": "stdout"
        }
      ]
    },
    {
      "cell_type": "markdown",
      "metadata": {
        "id": "N1gR3KgCtLXw"
      },
      "source": [
        "# 勾配降下法による重み更新\n",
        "\n",
        "ε=0.01とする"
      ]
    },
    {
      "cell_type": "code",
      "metadata": {
        "id": "n-wEBb1ftVk4"
      },
      "source": [
        "#勾配降下法による重み更新\n",
        "def gradient_decent(W, b, dW, db, rate):\n",
        "  W = W - rate*dW\n",
        "  b = b - rate*db\n",
        "\n",
        "  return W, b"
      ],
      "execution_count": null,
      "outputs": []
    },
    {
      "cell_type": "code",
      "metadata": {
        "colab": {
          "base_uri": "https://localhost:8080/"
        },
        "id": "qvErv54_uD_5",
        "outputId": "69ff1a25-5b50-4cfc-c1ab-82e4c50c4953"
      },
      "source": [
        "rate = 0.001\n",
        "\n",
        "W, b = gradient_decent(W, b, dW, db, rate)\n",
        "\n",
        "print(\"new W=\",W)\n",
        "print(\"new b=\",b)"
      ],
      "execution_count": null,
      "outputs": [
        {
          "output_type": "stream",
          "text": [
            "new W= [[0.1024]\n",
            " [0.2036]\n",
            " [0.306 ]]\n",
            "new b= [0.5012]\n"
          ],
          "name": "stdout"
        }
      ]
    },
    {
      "cell_type": "markdown",
      "metadata": {
        "id": "RIhKvAcHufgI"
      },
      "source": [
        "# 30回繰り返す"
      ]
    },
    {
      "cell_type": "code",
      "metadata": {
        "colab": {
          "base_uri": "https://localhost:8080/"
        },
        "id": "lW8vkwUVukkX",
        "outputId": "accbcaed-d664-4484-a07e-b000818d563f"
      },
      "source": [
        "plot_E=[]\n",
        "\n",
        "for i in range(30):\n",
        "  z = forward(W, b, x)\n",
        "  E = sum_squared_error(z, d)\n",
        "  W, b = gradient_decent(W, b, dW, db, rate)\n",
        "  plot_E.append(E)\n",
        "\n",
        "  #5回ごとに結果表示\n",
        "  if (i%5==0):\n",
        "    print(\"================={}=================\".format(i))\n",
        "    print(\"z=\",z)\n",
        "    print(\"E=\",E)\n",
        "    print(\"new W=\",W)\n",
        "    print(\"new b=\",b)\n"
      ],
      "execution_count": null,
      "outputs": [
        {
          "output_type": "stream",
          "text": [
            "=================0=================\n",
            "z= [2.8468]\n",
            "E= 0.66493512\n",
            "new W= [[0.1048]\n",
            " [0.2072]\n",
            " [0.312 ]]\n",
            "new b= [0.5024]\n",
            "=================5=================\n",
            "z= [3.0808]\n",
            "E= 0.42246432\n",
            "new W= [[0.1168]\n",
            " [0.2252]\n",
            " [0.342 ]]\n",
            "new b= [0.5084]\n",
            "=================10=================\n",
            "z= [3.3148]\n",
            "E= 0.23474952000000002\n",
            "new W= [[0.1288]\n",
            " [0.2432]\n",
            " [0.372 ]]\n",
            "new b= [0.5144]\n",
            "=================15=================\n",
            "z= [3.5488]\n",
            "E= 0.10179072000000002\n",
            "new W= [[0.1408]\n",
            " [0.2612]\n",
            " [0.402 ]]\n",
            "new b= [0.5204]\n",
            "=================20=================\n",
            "z= [3.7828]\n",
            "E= 0.02358792000000011\n",
            "new W= [[0.1528]\n",
            " [0.2792]\n",
            " [0.432 ]]\n",
            "new b= [0.5264]\n",
            "=================25=================\n",
            "z= [4.0168]\n",
            "E= 0.00014111999999999876\n",
            "new W= [[0.1648]\n",
            " [0.2972]\n",
            " [0.462 ]]\n",
            "new b= [0.5324]\n"
          ],
          "name": "stdout"
        }
      ]
    },
    {
      "cell_type": "code",
      "metadata": {
        "colab": {
          "base_uri": "https://localhost:8080/"
        },
        "id": "pUv554Ou0MhO",
        "outputId": "1ece5333-b302-4c24-9bca-10434492ee68"
      },
      "source": [
        "print(plot_E)"
      ],
      "execution_count": null,
      "outputs": [
        {
          "output_type": "stream",
          "text": [
            "[0.66493512, 0.6120604799999998, 0.56137608, 0.5128819199999999, 0.46657800000000016, 0.42246432, 0.38054087999999986, 0.3408076800000001, 0.3032647200000003, 0.26791200000000015, 0.23474952000000002, 0.2037772800000002, 0.17499528000000034, 0.1484035200000002, 0.12400200000000011, 0.10179072000000002, 0.08176968000000012, 0.06393888000000021, 0.04829831999999999, 0.03484800000000006, 0.02358792000000011, 0.01451807999999998, 0.007638480000000019, 0.0029491199999999982, 0.00045000000000000747, 0.00014111999999999876, 0.0020224800000000066, 0.00609408000000003, 0.012355919999999932, 0.020807999999999948]\n"
          ],
          "name": "stdout"
        }
      ]
    },
    {
      "cell_type": "markdown",
      "metadata": {
        "id": "RiSAMDFNzg2c"
      },
      "source": [
        "# グラフ"
      ]
    },
    {
      "cell_type": "code",
      "metadata": {
        "colab": {
          "base_uri": "https://localhost:8080/",
          "height": 283
        },
        "id": "waE3yZeczebo",
        "outputId": "beab0a3a-ce1c-42b1-b8d2-4de01e3c1f8c"
      },
      "source": [
        "import numpy as np\n",
        "import matplotlib.pyplot as plt\n",
        " \n",
        "# 折れ線グラフを出力\n",
        "height = plot_E\n",
        "left = range(30)\n",
        "plt.plot(left, height)"
      ],
      "execution_count": null,
      "outputs": [
        {
          "output_type": "execute_result",
          "data": {
            "text/plain": [
              "[<matplotlib.lines.Line2D at 0x7f41e5ea2f10>]"
            ]
          },
          "metadata": {
            "tags": []
          },
          "execution_count": 152
        },
        {
          "output_type": "display_data",
          "data": {
            "image/png": "[encoded data removed]",
            "text/plain": [
              "<Figure size 432x288 with 1 Axes>"
            ]
          },
          "metadata": {
            "tags": [],
            "needs_background": "light"
          }
        }
      ]
    },
    {
      "cell_type": "markdown",
      "metadata": {
        "id": "v8AH400idpTk"
      },
      "source": [
        "# 終わり"
      ]
    },
    {
      "cell_type": "code",
      "metadata": {
        "id": "bdBIu4za5umf",
        "colab": {
          "base_uri": "https://localhost:8080/"
        },
        "outputId": "142f9456-9dbd-4921-ebe9-c19de308d637"
      },
      "source": [
        "#終了時刻\n",
        "finish_time = datetime.datetime.now(datetime.timezone(datetime.timedelta(hours=9)))\n",
        "print(\"finish_time=\",finish_time)\n",
        "print(\"total_time=\",finish_time-start_time)\n"
      ],
      "execution_count": null,
      "outputs": [
        {
          "output_type": "stream",
          "text": [
            "finish_time= 2021-04-24 07:10:46.317210+09:00\n",
            "total_time= 0:00:00.262767\n"
          ],
          "name": "stdout"
        }
      ]
    }
  ]
}