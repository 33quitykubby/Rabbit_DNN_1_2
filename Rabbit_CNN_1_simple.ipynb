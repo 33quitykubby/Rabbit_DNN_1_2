{
  "nbformat": 4,
  "nbformat_minor": 0,
  "metadata": {
    "colab": {
      "name": "Rabbit_CNN_1_simple.ipynb",
      "provenance": [],
      "collapsed_sections": [],
      "toc_visible": true,
      "include_colab_link": true
    },
    "kernelspec": {
      "display_name": "Python 3",
      "name": "python3"
    },
    "accelerator": "GPU"
  },
  "cells": [
    {
      "cell_type": "markdown",
      "metadata": {
        "id": "view-in-github",
        "colab_type": "text"
      },
      "source": [
        "<a href=\"https://colab.research.google.com/github/33quitykubby/Rabbit_DNN_1_2/blob/main/Rabbit_CNN_1_simple.ipynb\" target=\"_parent\"><img src=\"https://colab.research.google.com/assets/colab-badge.svg\" alt=\"Open In Colab\"/></a>"
      ]
    },
    {
      "cell_type": "markdown",
      "metadata": {
        "id": "ndo0gsKs29oE"
      },
      "source": [
        "# CNN\n",
        "\n",
        "サンプルコード2_6_simple_convolution_network_after.ipynb  \n",
        "写経  "
      ]
    },
    {
      "cell_type": "markdown",
      "metadata": {
        "id": "aFawz7zCioGw"
      },
      "source": [
        "# 日本時間にする"
      ]
    },
    {
      "cell_type": "code",
      "metadata": {
        "colab": {
          "base_uri": "https://localhost:8080/"
        },
        "id": "Qqk7xVQXilAv",
        "outputId": "4a5fb282-a581-4304-834f-d7f706ca6e1a"
      },
      "source": [
        "  !rm /etc/localtime\n",
        "  !ln -s /usr/share/zoneinfo/Asia/Tokyo /etc/localtime\n",
        "  !date"
      ],
      "execution_count": 22,
      "outputs": [
        {
          "output_type": "stream",
          "text": [
            "Thu Apr 29 21:50:11 JST 2021\n"
          ],
          "name": "stdout"
        }
      ]
    },
    {
      "cell_type": "markdown",
      "metadata": {
        "id": "0XSgZcpT4tkC"
      },
      "source": [
        "# ライブラリのインポート"
      ]
    },
    {
      "cell_type": "code",
      "metadata": {
        "id": "9hlcGt_j4tkD"
      },
      "source": [
        "import pandas as pd\n",
        "import numpy as np\n",
        "\n",
        "from matplotlib import pyplot as plt\n",
        "%matplotlib inline\n",
        "\n",
        "import os\n",
        "import glob\n",
        "\n",
        "import librosa\n",
        "\n",
        "import datetime\n",
        "\n",
        "import gc\n",
        "\n",
        "from sklearn.datasets import load_boston\n",
        "from pandas import DataFrame"
      ],
      "execution_count": 23,
      "outputs": []
    },
    {
      "cell_type": "code",
      "metadata": {
        "colab": {
          "base_uri": "https://localhost:8080/"
        },
        "id": "l3Kfi-5YVRYV",
        "outputId": "5dd24606-7d49-434a-e384-455cbb6f8335"
      },
      "source": [
        "#開始時刻\n",
        "start_time = datetime.datetime.now(datetime.timezone(datetime.timedelta(hours=9)))\n",
        "print(\"start_time=\",start_time)"
      ],
      "execution_count": 24,
      "outputs": [
        {
          "output_type": "stream",
          "text": [
            "start_time= 2021-04-29 21:50:11.949972+09:00\n"
          ],
          "name": "stdout"
        }
      ]
    },
    {
      "cell_type": "markdown",
      "metadata": {
        "id": "UdzrJm_XYr17"
      },
      "source": [
        "# 乱数シードの初期化\n",
        "\n",
        "\n",
        "\n",
        "\n"
      ]
    },
    {
      "cell_type": "code",
      "metadata": {
        "id": "wNUHyFvYF1_Z"
      },
      "source": [
        "import os \n",
        "import numpy as np\n",
        "from sklearn import model_selection\n",
        "import tensorflow as tf\n",
        "import random\n",
        "\n",
        "COMMON_SEED = 0\n",
        "STANDARD_SEED = 0\n",
        "NP_SEED = 0\n",
        "TF_SEED = 0 \n",
        "\n",
        "# np.random.seed(STANDARD_SEED)\n",
        "# random.seed(NP_SEED)\n",
        "# tf.random.set_seed(TF_SEED)\n",
        "\n",
        "def seed_everything():\n",
        "    random.seed(STANDARD_SEED)\n",
        "    os.environ['PYTHONHASHSEED'] = str(COMMON_SEED)\n",
        "    os.environ['TF_DETERMINISTIC_OPS'] = '1'\n",
        "    os.environ['TF_CUDNN_DETERMINISTIC'] = '1'\n",
        "    np.random.seed(NP_SEED)\n",
        "    tf.random.set_seed(TF_SEED)\n",
        "    session_conf = tf.compat.v1.ConfigProto(\n",
        "        intra_op_parallelism_threads=1,\n",
        "        inter_op_parallelism_threads=1\n",
        "    )\n",
        "    sess = tf.compat.v1.Session(graph=tf.compat.v1.get_default_graph(), config=session_conf)\n",
        "    tf.compat.v1.keras.backend.set_session(sess)\n"
      ],
      "execution_count": 25,
      "outputs": []
    },
    {
      "cell_type": "code",
      "metadata": {
        "id": "9AOmh1f2uhww"
      },
      "source": [
        "#乱数シード固定\n",
        "\n",
        "seed_everything()"
      ],
      "execution_count": 26,
      "outputs": []
    },
    {
      "cell_type": "markdown",
      "metadata": {
        "id": "V3KtRk3Eipe8"
      },
      "source": [
        "# マウント"
      ]
    },
    {
      "cell_type": "code",
      "metadata": {
        "colab": {
          "base_uri": "https://localhost:8080/"
        },
        "id": "lYt61qQ_SJAA",
        "outputId": "18d41068-3c9d-4c83-9d2c-662e5b88d458"
      },
      "source": [
        "from google.colab import drive\n",
        "drive.mount('/content/drive')"
      ],
      "execution_count": 27,
      "outputs": [
        {
          "output_type": "stream",
          "text": [
            "Drive already mounted at /content/drive; to attempt to forcibly remount, call drive.mount(\"/content/drive\", force_remount=True).\n"
          ],
          "name": "stdout"
        }
      ]
    },
    {
      "cell_type": "markdown",
      "metadata": {
        "id": "oXXh5d_gKCxM"
      },
      "source": [
        "# 共通クラス"
      ]
    },
    {
      "cell_type": "markdown",
      "metadata": {
        "id": "KOFeuuWHcP6U"
      },
      "source": [
        "## class Relu"
      ]
    },
    {
      "cell_type": "code",
      "metadata": {
        "id": "ni4wSFj1cSay"
      },
      "source": [
        "class Relu:\n",
        "  def __init__(self):\n",
        "    self.mask = None\n",
        "  \n",
        "  def forward(self, x):\n",
        "    self.mask = ( x <= 0 )\n",
        "    out = x.copy()\n",
        "    # Trueの箇所を0にする\n",
        "    out[self.mask] = 0\n",
        "  \n",
        "    return out\n",
        "\n",
        "  def backward(self, dout):\n",
        "    self.mask = ( dout > 0)\n",
        "    out = dout.copy()\n",
        "    # Trueの箇所を0にする\n",
        "    dout[self.mask] = 0\n",
        "    dx = dout\n",
        "\n",
        "    return dx\n",
        "  \n",
        "\n"
      ],
      "execution_count": 28,
      "outputs": []
    },
    {
      "cell_type": "markdown",
      "metadata": {
        "id": "eNNn8T4Fdo9X"
      },
      "source": [
        "## class Affine（全結合層）\n",
        "\n",
        "$$dout = x・W + b$$"
      ]
    },
    {
      "cell_type": "code",
      "metadata": {
        "id": "7uPXKlnpdu5M"
      },
      "source": [
        "class Affine:\n",
        "  def __init__(self, W, b):\n",
        "    self.W = W\n",
        "    self.b = b\n",
        "\n",
        "    self.x = None\n",
        "    self.original_x_shape = None\n",
        "    \n",
        "    #重み、バイアスの微分\n",
        "    self.dW = None\n",
        "    self.db = None\n",
        "  \n",
        "  def forward(self, x):\n",
        "    #　テンソル対応\n",
        "    self.original_x_shape = x.shape\n",
        "    # print(\"x.org.shape=\",self.original_x_shape)\n",
        "    x = x.reshape(x.shape[0], -1)\n",
        "    self.x = x\n",
        "    # print(\"x.shape=\",self.x.shape)\n",
        "\n",
        "    out = np.dot(self.x, self.W) + self.b\n",
        "\n",
        "    return out\n",
        "\n",
        "  def backward(self, dout):\n",
        "    dx = np.dot(dout, self.W.T)\n",
        "    self.dW = np.dot(self.x.T, dout)\n",
        "    self.db = np.sum(dout,axis=0)\n",
        "\n",
        "    # 入力データの形状にもどしてあげる\n",
        "    dx = dx.reshape(*self.original_x_shape)\n",
        "    return dx\n"
      ],
      "execution_count": 29,
      "outputs": []
    },
    {
      "cell_type": "markdown",
      "metadata": {
        "id": "OYmTI4E9HmEg"
      },
      "source": [
        "## class SoftmaxWithLoss"
      ]
    },
    {
      "cell_type": "code",
      "metadata": {
        "id": "SiB4cUqWItN5"
      },
      "source": [
        "class SoftmaxWithLoss:\n",
        "  def __init__(self):\n",
        "    self.loss = None\n",
        "    self.y = None\n",
        "    self.d = None\n",
        "\n",
        "  def softmax(self, x):\n",
        "    if x.ndim == 2:\n",
        "      x = x.T\n",
        "      x = x - np.max(x, axis=0)\n",
        "      y = np.exp(x) / np.sum(np.exp(x), axis=0)\n",
        "      return y.T\n",
        "\n",
        "    x = x - np.max(x) # オーバーフロー対策\n",
        "    return np.exp(x) / np.sum(np.exp(x))\n",
        "\n",
        "  def cross_entropy_error(self, d, y):\n",
        "    if y.ndim == 1:\n",
        "      d = d.reshape(1, d.size)\n",
        "      y = y.reshape(1, y.size)\n",
        "\n",
        "    #教師データがone-hotの場合、正解ラベルのインデックスに変換\n",
        "    if d.size == y.size:\n",
        "      d = d.argmax(axis=1)\n",
        "\n",
        "    batch_size = y.shape[0]\n",
        "    return -np.sum(np.log(y[np.arange(batch_size), d] + 1e-7)) / batch_size\n",
        "\n",
        "  def forward(self, x, d):\n",
        "    self.d = d\n",
        "    self.y = self.softmax(x)\n",
        "    self.loss = self.cross_entropy_error(self.d, self.y)\n",
        "\n",
        "    return self.loss\n",
        "\n",
        "  def backward(self, dout=1):\n",
        "    batch_size = self.d.shape[0]\n",
        "    if self.d.size == self.y.size: # 教師データがone-hotの場合\n",
        "      dx = (self.y - self.d) / batch_size\n",
        "    else:\n",
        "      dx = self.y.copy()\n",
        "      dx[np.arange(batch_size), self.d] -= 1\n",
        "      dx = dx / batch_size\n",
        "\n",
        "    return dx"
      ],
      "execution_count": 30,
      "outputs": []
    },
    {
      "cell_type": "markdown",
      "metadata": {
        "id": "G9N5oOJN1ka5"
      },
      "source": [
        "## class Dropout"
      ]
    },
    {
      "cell_type": "code",
      "metadata": {
        "id": "_FSpSjM41mqr"
      },
      "source": [
        "class Dropout:\n",
        "  def __init__(self, dropout_ratio=0.5):\n",
        "    self.dropout_ratio = dropout_ratio\n",
        "    self.mask = None\n",
        "\n",
        "  def forward(self, x, train_flg = True):\n",
        "    if train_flg:\n",
        "      self.mask = np.random.rand(*x.shape) > self.dropout_ratio\n",
        "      return x * self.mask\n",
        "    else:\n",
        "      return x * (1.0 - self.dropout_ratio)\n",
        "\n",
        "  def backward(self, dout):\n",
        "    return dout * self.mask"
      ],
      "execution_count": 31,
      "outputs": []
    },
    {
      "cell_type": "markdown",
      "metadata": {
        "id": "yIo6L54Pn8Ug"
      },
      "source": [
        "## class Adam"
      ]
    },
    {
      "cell_type": "code",
      "metadata": {
        "id": "odmTnnSIoFmH"
      },
      "source": [
        "class Adam:\n",
        "  def __init__(self, learning_rate = 0.001, beta1 = 0.9, beta2 = 0.999):\n",
        "    self.learning_rate = learning_rate\n",
        "    self.beta1 = beta1\n",
        "    self.beta2 = beta2\n",
        "    self.iter = 0\n",
        "    self.m = None\n",
        "    self.v = None\n",
        "\n",
        "  def update(self, params, grad):\n",
        "    if self.m is None:\n",
        "      self.m , self.v = {}, {}\n",
        "      for key, val in params.items():\n",
        "        self.m[key] = np.zeros_like(val)\n",
        "        self.v[key] = np.zeros_like(val)\n",
        "\n",
        "    self.iter += 1\n",
        "    lr_t = self.learning_rate * np.sqrt(1.0 - self.beta2 ** self.iter) / (1.0 - self.beta1 ** self.iter)\n",
        "\n",
        "    for key in params.keys():\n",
        "      self.m[key] += (1 - self.beta1) * ( grad[key] - self.m[key])\n",
        "      self.v[key] += (1 - self.beta2) * ( grad[key] ** 2 - self.v[key])\n",
        "\n",
        "      params[key] -= lr_t * self.m[key] / (np.sqrt(self.v[key])+1e-7)"
      ],
      "execution_count": 32,
      "outputs": []
    },
    {
      "cell_type": "markdown",
      "metadata": {
        "id": "7e8hyPJMKVyM"
      },
      "source": [
        "# 共通関数"
      ]
    },
    {
      "cell_type": "markdown",
      "metadata": {
        "id": "7bpUV3eBLGzh"
      },
      "source": [
        "## image to column\n",
        "\n",
        "  "
      ]
    },
    {
      "cell_type": "code",
      "metadata": {
        "id": "QLJFrujnLGHZ"
      },
      "source": [
        "def im2col(input_data, filter_h, filter_w, stride=1, pad=0):\n",
        "  # N : number\n",
        "  # C : channel\n",
        "  # H : height\n",
        "  # W : width\n",
        "  N, C, H, W = input_data.shape\n",
        "  out_h = ( (H + 2*pad - filter_h) // stride ) + 1 \n",
        "  out_w = ( (W + 2*pad - filter_w) // stride ) + 1 \n",
        "\n",
        "  # print(\"out_h={}, out_w={}\".format(out_h, out_w))\n",
        "\n",
        "  img = np.pad( input_data, [(0,0), (0,0), (pad, pad), (pad, pad)], 'constant')\n",
        "  col = np.zeros((N, C, filter_h, filter_w, out_h, out_w))\n",
        "\n",
        "  for y in range(filter_h):\n",
        "    y_max = y + stride * out_h\n",
        "    # print(\"y_max=\",y_max)\n",
        "    for x in range(filter_w):\n",
        "      x_max = x + stride * out_w\n",
        "      # print(\"x_max=\",x_max)\n",
        "      col[:, :, y, x, :, :] = img[:, :, y:y_max:stride, x:x_max:stride]\n",
        "        # print(\"---------------------\\n\", col[:, :, y, x, :, :])\n",
        "      # print(\"---------------------\\n\",img[:, :, y:y_max:stride, x:x_max:stride])\n",
        "      # print(\"---------------------\\n\",img[:, :, y:y_max, x:x_max])\n",
        "      # print(\"---------------------\")\n",
        "\n",
        "  col = col.transpose(0, 4, 5, 1, 2, 3) # (N, C, filter_h, filter_w, out_h, out_w) - > (N, filter_w, out_h, out_w, C, filter_h)\n",
        "  # print(\"---------------------\\n\", col)\n",
        "      \n",
        "  col = col.reshape(N * out_h * out_w, -1)\n",
        "\n",
        "  return col\n"
      ],
      "execution_count": 33,
      "outputs": []
    },
    {
      "cell_type": "code",
      "metadata": {
        "colab": {
          "base_uri": "https://localhost:8080/"
        },
        "id": "zw89Hkn8QT2K",
        "outputId": "7aef4502-3414-4da8-9d3d-094b3582f7f8"
      },
      "source": [
        "#　テスト \n",
        "input_data = np.random.rand(2, 1, 4, 4)*100//1 # Number, Channel Height, Width\n",
        "print(\"==============================================\\n\",input_data)\n",
        "print(\"==============================================\")\n",
        "filter_h = 3\n",
        "filter_w = 3\n",
        "stride = 1\n",
        "pad = 0\n",
        "col = im2col(input_data, filter_h=filter_h, filter_w=filter_w, stride=stride, pad=pad)\n",
        "print(\"=============================================\\n\",col)\n",
        "print(\"=============================================\")"
      ],
      "execution_count": 34,
      "outputs": [
        {
          "output_type": "stream",
          "text": [
            "==============================================\n",
            " [[[[54. 71. 60. 54.]\n",
            "   [42. 64. 43. 89.]\n",
            "   [96. 38. 79. 52.]\n",
            "   [56. 92.  7.  8.]]]\n",
            "\n",
            "\n",
            " [[[ 2. 83. 77. 87.]\n",
            "   [97. 79. 46. 78.]\n",
            "   [11. 63. 14. 94.]\n",
            "   [52. 41. 26. 77.]]]]\n",
            "==============================================\n",
            "=============================================\n",
            " [[54. 71. 60. 42. 64. 43. 96. 38. 79.]\n",
            " [71. 60. 54. 64. 43. 89. 38. 79. 52.]\n",
            " [42. 64. 43. 96. 38. 79. 56. 92.  7.]\n",
            " [64. 43. 89. 38. 79. 52. 92.  7.  8.]\n",
            " [ 2. 83. 77. 97. 79. 46. 11. 63. 14.]\n",
            " [83. 77. 87. 79. 46. 78. 63. 14. 94.]\n",
            " [97. 79. 46. 11. 63. 14. 52. 41. 26.]\n",
            " [79. 46. 78. 63. 14. 94. 41. 26. 77.]]\n",
            "=============================================\n"
          ],
          "name": "stdout"
        }
      ]
    },
    {
      "cell_type": "markdown",
      "metadata": {
        "id": "diaM-5E3jfeO"
      },
      "source": [
        "## columun to image\n",
        "\n",
        "  "
      ]
    },
    {
      "cell_type": "code",
      "metadata": {
        "id": "YZ99Vm4vjfec"
      },
      "source": [
        "def col2im(col, input_shape, filter_h, filter_w, stride=1, pad=0):\n",
        "  # N : number\n",
        "  # C : channel\n",
        "  # H : height\n",
        "  # W : width\n",
        "  N, C, H, W = input_shape\n",
        "  # print(\"N={}, C={}, H={}, W={}\".format(N,C,H,W))\n",
        "  out_h = ( (H + 2*pad - filter_h) // stride ) + 1 \n",
        "  out_w = ( (W + 2*pad - filter_w) // stride ) + 1 \n",
        "\n",
        "  # print(\"out_h={}, out_w={}\".format(out_h, out_w))\n",
        "\n",
        "  col = col.reshape(N, out_h, out_w, C, filter_h, filter_w).transpose(0,3,4,5,1,2).astype(int)\n",
        "\n",
        "  img = np.zeros((N, C, H + 2 * pad + stride -1, W + 2 * pad + stride -1)).astype(int)\n",
        "\n",
        "  for y in range(filter_h):\n",
        "    y_max = y + stride * out_h\n",
        "    for x in range(filter_w):\n",
        "      x_max = x + stride * out_w\n",
        "      img[:, :, y:y_max:stride, x:x_max:stride] |= col[:,:,y,x,:,:]\n",
        "      # print(\"---------------------\\n\", col[:, :, y, x, :, :])\n",
        "      # print(\"---------------------\\n\",img[:, :, y:y_max:stride, x:x_max:stride])\n",
        "      # print(\"---------------------\\n\",img)\n",
        "      # print(\"---------------------\")\n",
        "\n",
        "  return img[:, :, pad:H + pad, pad:W + pad]\n"
      ],
      "execution_count": 35,
      "outputs": []
    },
    {
      "cell_type": "code",
      "metadata": {
        "colab": {
          "base_uri": "https://localhost:8080/"
        },
        "id": "7-1-S8tfk3Hi",
        "outputId": "3115acd9-5f6b-4ec9-a107-0eb28512e8b0"
      },
      "source": [
        "#　テスト \n",
        "N_DATAS = 2\n",
        "CHANNEL = 1\n",
        "HEIGHT = 4\n",
        "WIDTH = 4\n",
        "input_data = np.random.rand(N_DATAS, CHANNEL, HEIGHT, WIDTH)*100//1 # Number, Channel Height, Width\n",
        "print(\"==============================================\\n\",input_data)\n",
        "print(\"==============================================\")\n",
        "filter_h = 3\n",
        "filter_w = 3\n",
        "stride = 1\n",
        "pad = 0\n",
        "col = im2col(input_data, filter_h=filter_h, filter_w=filter_w, stride=stride, pad=pad)\n",
        "print(\"=============================================\\n\",col)\n",
        "print(\"=============================================\")\n",
        "img = col2im(col, input_data.shape, filter_h=filter_h, filter_w=filter_w, stride=stride, pad=pad)\n",
        "print(\"********************************************\\n\",img)\n",
        "print(\"********************************************\")\n",
        "\n",
        "if np.all(img == input_data):\n",
        "  print(\"img is same as input_data\")\n",
        "else:\n",
        "  print(\"WOOOOOOOOOO not same img vs input_data\")"
      ],
      "execution_count": 36,
      "outputs": [
        {
          "output_type": "stream",
          "text": [
            "==============================================\n",
            " [[[[45. 56.  1. 61.]\n",
            "   [61. 61. 94. 68.]\n",
            "   [35. 43. 69.  6.]\n",
            "   [66. 67. 21. 12.]]]\n",
            "\n",
            "\n",
            " [[[31. 36. 57. 43.]\n",
            "   [98. 10. 20. 16.]\n",
            "   [65. 25. 46. 24.]\n",
            "   [15. 11. 65. 13.]]]]\n",
            "==============================================\n",
            "=============================================\n",
            " [[45. 56.  1. 61. 61. 94. 35. 43. 69.]\n",
            " [56.  1. 61. 61. 94. 68. 43. 69.  6.]\n",
            " [61. 61. 94. 35. 43. 69. 66. 67. 21.]\n",
            " [61. 94. 68. 43. 69.  6. 67. 21. 12.]\n",
            " [31. 36. 57. 98. 10. 20. 65. 25. 46.]\n",
            " [36. 57. 43. 10. 20. 16. 25. 46. 24.]\n",
            " [98. 10. 20. 65. 25. 46. 15. 11. 65.]\n",
            " [10. 20. 16. 25. 46. 24. 11. 65. 13.]]\n",
            "=============================================\n",
            "********************************************\n",
            " [[[[45 56  1 61]\n",
            "   [61 61 94 68]\n",
            "   [35 43 69  6]\n",
            "   [66 67 21 12]]]\n",
            "\n",
            "\n",
            " [[[31 36 57 43]\n",
            "   [98 10 20 16]\n",
            "   [65 25 46 24]\n",
            "   [15 11 65 13]]]]\n",
            "********************************************\n",
            "img is same as input_data\n"
          ],
          "name": "stdout"
        }
      ]
    },
    {
      "cell_type": "markdown",
      "metadata": {
        "id": "IZPtEEH2RXXk"
      },
      "source": [
        "## MNISTデータ読み込み"
      ]
    },
    {
      "cell_type": "code",
      "metadata": {
        "id": "1rObaIT6RaVS"
      },
      "source": [
        "import gzip\n",
        "import pickle\n",
        "\n",
        "url_base = 'http://yann.lecun.com/exdb/mnist/'\n",
        "key_file = {\n",
        "    'train_img':'train-images-idx3-ubyte.gz',\n",
        "    'train_label':'train-labels-idx1-ubyte.gz',\n",
        "    'test_img':'t10k-images-idx3-ubyte.gz',\n",
        "    'test_label':'t10k-labels-idx1-ubyte.gz'\n",
        "}\n",
        "\n",
        "# dataset_dir = os.path.dirname(os.path.abspath(__file__))\n",
        "dataset_dir = '/content/drive/MyDrive/RabbitChallenge/DNN_code_colab_lesson_1_2/data'\n",
        "save_file = dataset_dir + \"/mnist.pkl\"\n",
        "\n",
        "train_num = 60000\n",
        "test_num = 10000\n",
        "img_dim = (1, 28, 28)\n",
        "img_size = 784\n",
        "\n",
        "\n",
        "def _download(file_name):\n",
        "    file_path = dataset_dir + \"/\" + file_name\n",
        "    \n",
        "    if os.path.exists(file_path):\n",
        "        return\n",
        "\n",
        "    print(\"Downloading \" + file_name + \" ... \")\n",
        "    urllib.request.urlretrieve(url_base + file_name, file_path)\n",
        "    print(\"Done\")\n",
        "    \n",
        "def download_mnist():\n",
        "    for v in key_file.values():\n",
        "       _download(v)\n",
        "        \n",
        "def _load_label(file_name):\n",
        "    file_path = dataset_dir + \"/\" + file_name\n",
        "    \n",
        "    print(\"Converting \" + file_name + \" to NumPy Array ...\")\n",
        "    with gzip.open(file_path, 'rb') as f:\n",
        "            labels = np.frombuffer(f.read(), np.uint8, offset=8)\n",
        "    print(\"Done\")\n",
        "    \n",
        "    return labels\n",
        "\n",
        "def _load_img(file_name):\n",
        "    file_path = dataset_dir + \"/\" + file_name\n",
        "    \n",
        "    print(\"Converting \" + file_name + \" to NumPy Array ...\")    \n",
        "    with gzip.open(file_path, 'rb') as f:\n",
        "            data = np.frombuffer(f.read(), np.uint8, offset=16)\n",
        "    data = data.reshape(-1, img_size)\n",
        "    print(\"Done\")\n",
        "    \n",
        "    return data\n",
        "    \n",
        "def _convert_numpy():\n",
        "    dataset = {}\n",
        "    dataset['train_img'] =  _load_img(key_file['train_img'])\n",
        "    dataset['train_label'] = _load_label(key_file['train_label'])    \n",
        "    dataset['test_img'] = _load_img(key_file['test_img'])\n",
        "    dataset['test_label'] = _load_label(key_file['test_label'])\n",
        "    \n",
        "    return dataset\n",
        "\n",
        "def init_mnist():\n",
        "    download_mnist()\n",
        "    dataset = _convert_numpy()\n",
        "    print(\"Creating pickle file ...\")\n",
        "    with open(save_file, 'wb') as f:\n",
        "        pickle.dump(dataset, f, -1)\n",
        "    print(\"Done!\")\n",
        "\n",
        "def _change_one_hot_label(X):\n",
        "    T = np.zeros((X.size, 10))\n",
        "    for idx, row in enumerate(T):\n",
        "        row[X[idx]] = 1\n",
        "        \n",
        "    return T\n",
        "    \n",
        "def load_mnist(normalize=True, flatten=True, one_hot_label=False):\n",
        "    \"\"\"MNISTデータセットの読み込み\n",
        "    \n",
        "    Parameters\n",
        "    ----------\n",
        "    normalize : 画像のピクセル値を0.0~1.0に正規化する\n",
        "    one_hot_label : \n",
        "        one_hot_labelがTrueの場合、ラベルはone-hot配列として返す\n",
        "        one-hot配列とは、たとえば[0,0,1,0,0,0,0,0,0,0]のような配列\n",
        "    flatten : 画像を一次元配列に平にするかどうか \n",
        "    \n",
        "    Returns\n",
        "    -------\n",
        "    (訓練画像, 訓練ラベル), (テスト画像, テストラベル)\n",
        "    \"\"\"\n",
        "    if not os.path.exists(save_file):\n",
        "        init_mnist()\n",
        "        \n",
        "    with open(save_file, 'rb') as f:\n",
        "        dataset = pickle.load(f)\n",
        "    \n",
        "    if normalize:\n",
        "        for key in ('train_img', 'test_img'):\n",
        "            dataset[key] = dataset[key].astype(np.float32)\n",
        "            dataset[key] /= 255.0\n",
        "            \n",
        "    if one_hot_label:\n",
        "        dataset['train_label'] = _change_one_hot_label(dataset['train_label'])\n",
        "        dataset['test_label'] = _change_one_hot_label(dataset['test_label'])\n",
        "    \n",
        "    if not flatten:\n",
        "         for key in ('train_img', 'test_img'):\n",
        "            dataset[key] = dataset[key].reshape(-1, 1, 28, 28)\n",
        "\n",
        "    return (dataset['train_img'], dataset['train_label']), (dataset['test_img'], dataset['test_label']) \n"
      ],
      "execution_count": 37,
      "outputs": []
    },
    {
      "cell_type": "markdown",
      "metadata": {
        "id": "E1Vdo6Cr8_OK"
      },
      "source": [
        "# CNN用クラス"
      ]
    },
    {
      "cell_type": "markdown",
      "metadata": {
        "id": "AQIJ-WlK9GFB"
      },
      "source": [
        "## class Convolution"
      ]
    },
    {
      "cell_type": "code",
      "metadata": {
        "id": "3oEJFn3C9ETv"
      },
      "source": [
        "class Convolution:\n",
        "  def __init__(self, W, b, stride=1, pad=0):\n",
        "    self.W = W\n",
        "    self.b = b\n",
        "    self.stride = stride\n",
        "    self.pad = pad\n",
        "\n",
        "    #中間データ(backward時に使用)\n",
        "    self.x = None\n",
        "    self.col = None\n",
        "    self.col_W = None\n",
        "\n",
        "    #フィルターバイアスパラメータの勾配\n",
        "    self.dW = None\n",
        "    self.db = None\n",
        "\n",
        "  def forward(self, x):\n",
        "    \n",
        "    # FN:filter number\n",
        "    # C:channel\n",
        "    # FH:filter height\n",
        "    # FW:filter width\n",
        "    FN, C, FH, FW = self.W.shape\n",
        "    N, C, H, W = x.shape\n",
        "    \n",
        "    # 出力値のheight, width\n",
        "    out_h = 1 + int((H + 2 * pad - FH)/self.stride)\n",
        "    out_w = 1 + int((W + 2 * pad - FW)/self.stride)\n",
        "\n",
        "    # xを行列に変換\n",
        "    col = im2col(x, FH, FW, self.stride, self.pad)\n",
        "    # フィルターをxに合わせた行列に変換\n",
        "    col_W = self.W.reshape(FN, -1).T\n",
        "\n",
        "    out = np.dot(col, col_W) + self.b\n",
        "    #計算のために換えた形式を戻す\n",
        "    out = out.reshape(N, out_h, out_w, -1).transpose(0, 3, 1, 2)\n",
        "\n",
        "    self.x = x\n",
        "    self.col = col\n",
        "    self.col_W = col_W\n",
        "\n",
        "    return out\n",
        "\n",
        "  def backward(self, dout):\n",
        "    FN, C, FH, FW = self.W.shape\n",
        "    dout = dout.transpose(0, 2, 3, 1).reshape(-1, FN)\n",
        "\n",
        "    #基本的にはu=WX+bと同じ\n",
        "    self.db = np.sum(dout, axis = 0)\n",
        "    self.dW = np.dot(self.col.T, dout)\n",
        "    self.dW = self.dW.transpose(1,0).reshape(FN,C,FH,FW)\n",
        "\n",
        "    dcol = np.dot(dout, self.col_W.T)\n",
        "    # dcolを画像データに変換\n",
        "    dx = col2im(dcol, self.x.shape, FH, FW, self.stride, self.pad)\n",
        "\n",
        "    return dx\n"
      ],
      "execution_count": 38,
      "outputs": []
    },
    {
      "cell_type": "markdown",
      "metadata": {
        "id": "KDT6zLoCCrJf"
      },
      "source": [
        "## class Pooling"
      ]
    },
    {
      "cell_type": "code",
      "metadata": {
        "colab": {
          "base_uri": "https://localhost:8080/"
        },
        "id": "9MEV0F6pD-rj",
        "outputId": "3489aed6-9b48-41fa-f11c-45023f08025f"
      },
      "source": [
        "\n",
        "a = np.zeros((20,))\n",
        "\n",
        "for i in range(20):\n",
        "  a[i]=i+10\n",
        "\n",
        "print(a.shape)\n",
        "print(a.flatten())\n",
        "\n",
        "a1 = np.zeros((20,))\n",
        "a1 = a1.astype(int)\n",
        "a1[5] = 1\n",
        "\n",
        "b = np.zeros((20,4))\n",
        "\n",
        "print(b)\n",
        "print(len(a1))\n",
        "# print(np.arange(a1.all()))\n",
        "\n",
        "b[np.arange(len(a1)),a1.flatten()] = a.flatten()\n",
        "\n",
        "print(b)"
      ],
      "execution_count": 39,
      "outputs": [
        {
          "output_type": "stream",
          "text": [
            "(20,)\n",
            "[10. 11. 12. 13. 14. 15. 16. 17. 18. 19. 20. 21. 22. 23. 24. 25. 26. 27.\n",
            " 28. 29.]\n",
            "[[0. 0. 0. 0.]\n",
            " [0. 0. 0. 0.]\n",
            " [0. 0. 0. 0.]\n",
            " [0. 0. 0. 0.]\n",
            " [0. 0. 0. 0.]\n",
            " [0. 0. 0. 0.]\n",
            " [0. 0. 0. 0.]\n",
            " [0. 0. 0. 0.]\n",
            " [0. 0. 0. 0.]\n",
            " [0. 0. 0. 0.]\n",
            " [0. 0. 0. 0.]\n",
            " [0. 0. 0. 0.]\n",
            " [0. 0. 0. 0.]\n",
            " [0. 0. 0. 0.]\n",
            " [0. 0. 0. 0.]\n",
            " [0. 0. 0. 0.]\n",
            " [0. 0. 0. 0.]\n",
            " [0. 0. 0. 0.]\n",
            " [0. 0. 0. 0.]\n",
            " [0. 0. 0. 0.]]\n",
            "20\n",
            "[[10.  0.  0.  0.]\n",
            " [11.  0.  0.  0.]\n",
            " [12.  0.  0.  0.]\n",
            " [13.  0.  0.  0.]\n",
            " [14.  0.  0.  0.]\n",
            " [ 0. 15.  0.  0.]\n",
            " [16.  0.  0.  0.]\n",
            " [17.  0.  0.  0.]\n",
            " [18.  0.  0.  0.]\n",
            " [19.  0.  0.  0.]\n",
            " [20.  0.  0.  0.]\n",
            " [21.  0.  0.  0.]\n",
            " [22.  0.  0.  0.]\n",
            " [23.  0.  0.  0.]\n",
            " [24.  0.  0.  0.]\n",
            " [25.  0.  0.  0.]\n",
            " [26.  0.  0.  0.]\n",
            " [27.  0.  0.  0.]\n",
            " [28.  0.  0.  0.]\n",
            " [29.  0.  0.  0.]]\n"
          ],
          "name": "stdout"
        }
      ]
    },
    {
      "cell_type": "code",
      "metadata": {
        "id": "Zc1jGGanCvZ5"
      },
      "source": [
        "class Pooling:\n",
        "  def __init__(self, pool_h, pool_w, stride=1, pad=0):\n",
        "    self.pool_h = pool_h\n",
        "    self.pool_w = pool_w\n",
        "    self.stride = stride\n",
        "    self.pad = pad\n",
        "\n",
        "    self.x = None\n",
        "    self.arg_max = None\n",
        "\n",
        "  def forward(self, x):\n",
        "    N, C, H, W = x.shape\n",
        "    out_h = int(1 + (H - self.pool_h) / self.stride)\n",
        "    out_w = int(1 + (W - self.pool_w) / self.stride)\n",
        "\n",
        "    # xを行列に変換\n",
        "    col = im2col(x, self.pool_h, self.pool_w, self.stride, self.pad)\n",
        "    # プーリングサイズに合わせてリサイズ\n",
        "    col = col.reshape(-1, self.pool_h*self.pool_w)\n",
        "\n",
        "    #行ごとに最大値を求める \n",
        "    arg_max = np.argmax(col, axis=1)\n",
        "    # print(\"col.shape=\",col.shape)\n",
        "    # print(\"arg_max.shape=\",arg_max.shape)\n",
        "\n",
        "    out = np.max(col, axis=1)\n",
        "    # print(\"out=\",out)\n",
        "    # print(\"out.shape=\",out.shape)\n",
        "\n",
        "    #整形\n",
        "    out = out.reshape(N,out_h, out_w, C).transpose(0,3,1,2)\n",
        "\n",
        "    self.x = x\n",
        "    self.arg_max = arg_max\n",
        "    \n",
        "    return out\n",
        "\n",
        "  def backward(self, dout):\n",
        "    dout = dout.transpose(0, 2, 3, 1)\n",
        "\n",
        "    pool_size = self.pool_h * self.pool_w\n",
        "    # print(\"pool_size=\",pool_size)\n",
        "    dmax = np.zeros((dout.size, pool_size))\n",
        "    # print(\"dout size={} pool_size={}\".format(dout.size, pool_size))\n",
        "    dmax[np.arange(self.arg_max.size),self.arg_max.flatten()] = dout.flatten()\n",
        "    # print(\"dout.flatten().shape=\",dout.flatten().shape)\n",
        "    # print(\"np.arange(self.arg_max.size)=\",np.arange(self.arg_max.size))\n",
        "    # print(\"self.arg_max.flatten()=\",self.arg_max.flatten())\n",
        "    # print(\"np.arange(self.arg_max.size).shape=\",np.arange(self.arg_max.size).shape)\n",
        "    # print(\"self.arg_max.flatten().shape=\",self.arg_max.flatten().shape)\n",
        "\n",
        "\n",
        "    if (False):\n",
        "      print(\"1 dmax.shape=\",dmax.shape)\n",
        "      a_temp = self.arg_max.flatten()\n",
        "      for i in range(1000):\n",
        "        print(\"{}:{}:{}\".format(i,dmax[i],a_temp[i]))\n",
        "\n",
        "    dmax = dmax.reshape(dout.shape + (pool_size,))\n",
        "    # print(\"2 dmax.shape=\",dmax.shape)\n",
        "\n",
        "    dcol = dmax.reshape(dmax.shape[0] * dmax.shape[1] * dmax.shape[2], -1)\n",
        "    dx = col2im(dcol, self.x.shape, self.pool_h, self.pool_w, self.stride, self.pad)\n",
        "\n",
        "    return dx\n",
        "\n"
      ],
      "execution_count": 40,
      "outputs": []
    },
    {
      "cell_type": "markdown",
      "metadata": {
        "id": "vhGKjzPiq_Qf"
      },
      "source": [
        "## class simple convolution network\n"
      ]
    },
    {
      "cell_type": "code",
      "metadata": {
        "id": "Cp46OFPSNoOb"
      },
      "source": [
        "import collections\n",
        "\n",
        "class SimpleConvNet:\n",
        "  # conv - relu - pool - affine - relu - affine - softmax\n",
        "  def __init__(self, input_dim=(1,28,28), conv_param = {'filter_num':30, 'filter_size':5, 'pad':0, 'stride':1},\n",
        "               hidden_size = 100, output_size = 10, weight_init_std = 0.01):\n",
        "    filter_num = conv_param['filter_num']\n",
        "    filter_size = conv_param['filter_size']\n",
        "    filter_pad = conv_param['pad']\n",
        "    filter_stride = conv_param['stride']\n",
        "    input_size = input_dim[1]\n",
        "    conv_output_size = ( (input_size - filter_size + 2 * filter_pad) / filter_stride ) + 1\n",
        "    pool_output_size = int(filter_num * (conv_output_size / 2 ) * (conv_output_size) / 2)\n",
        "\n",
        "    #重みの初期化\n",
        "    self.params = {}\n",
        "    self.params['W1'] = weight_init_std * np.random.randn(filter_num, input_dim[0], filter_size, filter_size) \n",
        "    self.params['b1'] = np.zeros(filter_num)\n",
        "    self.params['W2'] = weight_init_std * np.random.randn(pool_output_size, hidden_size)\n",
        "    self.params['b2'] = np.zeros(hidden_size)\n",
        "    self.params['W3'] = weight_init_std * np.random.randn(hidden_size, output_size)\n",
        "    self.params['b3'] = np.zeros(output_size)\n",
        "\n",
        "    #レイヤの生成\n",
        "    self.layers = collections.OrderedDict()\n",
        "    self.layers['Conv1'] = Convolution(self.params['W1'], self.params['b1'], conv_param['stride'], conv_param['pad'])\n",
        "    self.layers['Relu1'] = Relu()\n",
        "    self.layers['Pool1'] = Pooling(pool_h=2, pool_w=2, stride=2)\n",
        "    self.layers['Affine1'] = Affine(self.params['W2'], self.params['b2'])\n",
        "    self.layers['Relu2'] = Relu()\n",
        "    self.layers['Affine2'] = Affine(self.params['W3'], self.params['b3'])\n",
        "\n",
        "    self.last_layer = SoftmaxWithLoss()\n",
        "\n",
        "  def predict(self, x):\n",
        "    for key in self.layers.keys():\n",
        "      x = self.layers[key].forward(x)\n",
        "    return x\n",
        "\n",
        "  def loss(self, x, d):\n",
        "    y = self.predict(x)\n",
        "    return self.last_layer.forward(y,d)\n",
        "\n",
        "  def accuracy(self, x, d, batch_size = 100):\n",
        "    if d.ndim != 1:\n",
        "      d = np.argmax(d, axis = 1)\n",
        "    acc = 0.0\n",
        "\n",
        "    for i in range(int(x.shape[0] / batch_size)):\n",
        "      tx = x[i*batch_size:(i+1)*batch_size]\n",
        "      td = d[i*batch_size:(i+1)*batch_size]\n",
        "      y = self.predict(tx)\n",
        "      y = np.argmax(y, axis=1)\n",
        "      acc += np.sum(y == td)\n",
        "\n",
        "    return acc / x.shape[0]\n",
        "\n",
        "  def gradient(self , x , d):\n",
        "    # forward\n",
        "    self.loss(x, d)\n",
        "\n",
        "    # backward\n",
        "    dout = 1\n",
        "    dout = self.last_layer.backward(dout)\n",
        "    layers = list(self.layers.values())\n",
        "\n",
        "    layers.reverse()\n",
        "\n",
        "    for layer in layers:\n",
        "      dout = layer.backward(dout)\n",
        "\n",
        "    #設定\n",
        "    grad = {}\n",
        "    grad['W1'], grad['b1'] = self.layers['Conv1'].dW, self.layers['Conv1'].db\n",
        "    grad['W2'], grad['b2'] = self.layers['Affine1'].dW, self.layers['Affine1'].db\n",
        "    grad['W3'], grad['b3'] = self.layers['Affine2'].dW, self.layers['Affine2'].db\n",
        "\n",
        "    return grad"
      ],
      "execution_count": 41,
      "outputs": []
    },
    {
      "cell_type": "markdown",
      "metadata": {
        "id": "prYUG1dRC53U"
      },
      "source": [
        "# MNISTによる検証"
      ]
    },
    {
      "cell_type": "code",
      "metadata": {
        "id": "-iF7zNYxrDuw",
        "colab": {
          "base_uri": "https://localhost:8080/"
        },
        "outputId": "e5f84184-47dc-4fac-ba0b-d9493bfd8dbd"
      },
      "source": [
        "# データの読み込み\n",
        "(x_train, d_train), (x_test, d_test) = load_mnist(flatten=False)\n",
        "\n",
        "print(\"data read finish\")\n",
        "\n",
        "TRAIN_LIMIT = 5000\n",
        "TEST_LIMIT = 1000\n",
        "x_train, d_train = x_train[:TRAIN_LIMIT], d_train[:TRAIN_LIMIT]\n",
        "x_test, d_test = x_test[:TEST_LIMIT], d_test[:TEST_LIMIT]\n",
        "\n",
        "network = SimpleConvNet(input_dim=(1,28,28), conv_param = {'filter_num':30, 'filter_size':5, 'pad':0, 'stride':1},\n",
        "                        hidden_size=100, output_size=10, weight_init_std=0.01)\n",
        "\n",
        "optimizer = Adam(learning_rate = 0.001)\n",
        "\n",
        "iters_num = 1000\n",
        "# iters_num = 1\n",
        "train_size = x_train.shape[0]\n",
        "batch_size = 100\n",
        "# batch_size = 1\n",
        "\n",
        "train_loss_list = []\n",
        "accuracies_train = []\n",
        "accuracies_test = []\n",
        "\n",
        "plot_interval = 10\n",
        "\n",
        "for i in range(iters_num):\n",
        "  batch_mask = np.random.choice(train_size, batch_size)\n",
        "  x_batch = x_train[batch_mask]\n",
        "  d_batch = d_train[batch_mask]\n",
        "\n",
        "  # 勾配\n",
        "  grad = network.gradient(x_batch, d_batch)\n",
        "  optimizer.update(network.params, grad)\n",
        "\n",
        "  loss = network.loss(x_batch, d_batch)\n",
        "  train_loss_list.append(loss)\n",
        "\n",
        "  if (i + 1) % plot_interval == 0:\n",
        "    accr_test = network.accuracy(x_test, d_test)\n",
        "    accuracies_test.append(accr_test)\n",
        "    accr_train = network.accuracy(x_batch, d_batch)\n",
        "    accuracies_train.append(accr_train)\n",
        "\n",
        "    print('Generation: ' + str(i+1)+ 'Accuracy(Training)=' + str(accr_train))\n",
        "    print('             :'+ str(i+1)+ 'Accuracy(Test)=' + str(accr_test))"
      ],
      "execution_count": 42,
      "outputs": [
        {
          "output_type": "stream",
          "text": [
            "data read finish\n",
            "Generation: 10Accuracy(Training)=0.1\n",
            "             :10Accuracy(Test)=0.116\n",
            "Generation: 20Accuracy(Training)=0.1\n",
            "             :20Accuracy(Test)=0.116\n",
            "Generation: 30Accuracy(Training)=0.13\n",
            "             :30Accuracy(Test)=0.085\n",
            "Generation: 40Accuracy(Training)=0.06\n",
            "             :40Accuracy(Test)=0.085\n",
            "Generation: 50Accuracy(Training)=0.09\n",
            "             :50Accuracy(Test)=0.11\n",
            "Generation: 60Accuracy(Training)=0.11\n",
            "             :60Accuracy(Test)=0.085\n",
            "Generation: 70Accuracy(Training)=0.08\n",
            "             :70Accuracy(Test)=0.11\n",
            "Generation: 80Accuracy(Training)=0.05\n",
            "             :80Accuracy(Test)=0.116\n",
            "Generation: 90Accuracy(Training)=0.1\n",
            "             :90Accuracy(Test)=0.104\n",
            "Generation: 100Accuracy(Training)=0.13\n",
            "             :100Accuracy(Test)=0.11\n",
            "Generation: 110Accuracy(Training)=0.11\n",
            "             :110Accuracy(Test)=0.085\n",
            "Generation: 120Accuracy(Training)=0.19\n",
            "             :120Accuracy(Test)=0.126\n",
            "Generation: 130Accuracy(Training)=0.11\n",
            "             :130Accuracy(Test)=0.11\n",
            "Generation: 140Accuracy(Training)=0.19\n",
            "             :140Accuracy(Test)=0.166\n",
            "Generation: 150Accuracy(Training)=0.15\n",
            "             :150Accuracy(Test)=0.145\n",
            "Generation: 160Accuracy(Training)=0.18\n",
            "             :160Accuracy(Test)=0.126\n",
            "Generation: 170Accuracy(Training)=0.28\n",
            "             :170Accuracy(Test)=0.258\n",
            "Generation: 180Accuracy(Training)=0.13\n",
            "             :180Accuracy(Test)=0.087\n",
            "Generation: 190Accuracy(Training)=0.2\n",
            "             :190Accuracy(Test)=0.243\n",
            "Generation: 200Accuracy(Training)=0.14\n",
            "             :200Accuracy(Test)=0.089\n",
            "Generation: 210Accuracy(Training)=0.11\n",
            "             :210Accuracy(Test)=0.112\n",
            "Generation: 220Accuracy(Training)=0.17\n",
            "             :220Accuracy(Test)=0.115\n",
            "Generation: 230Accuracy(Training)=0.31\n",
            "             :230Accuracy(Test)=0.297\n",
            "Generation: 240Accuracy(Training)=0.14\n",
            "             :240Accuracy(Test)=0.104\n",
            "Generation: 250Accuracy(Training)=0.24\n",
            "             :250Accuracy(Test)=0.192\n",
            "Generation: 260Accuracy(Training)=0.19\n",
            "             :260Accuracy(Test)=0.167\n",
            "Generation: 270Accuracy(Training)=0.22\n",
            "             :270Accuracy(Test)=0.183\n",
            "Generation: 280Accuracy(Training)=0.29\n",
            "             :280Accuracy(Test)=0.335\n",
            "Generation: 290Accuracy(Training)=0.29\n",
            "             :290Accuracy(Test)=0.3\n",
            "Generation: 300Accuracy(Training)=0.35\n",
            "             :300Accuracy(Test)=0.335\n",
            "Generation: 310Accuracy(Training)=0.25\n",
            "             :310Accuracy(Test)=0.227\n",
            "Generation: 320Accuracy(Training)=0.24\n",
            "             :320Accuracy(Test)=0.195\n",
            "Generation: 330Accuracy(Training)=0.17\n",
            "             :330Accuracy(Test)=0.205\n",
            "Generation: 340Accuracy(Training)=0.21\n",
            "             :340Accuracy(Test)=0.234\n",
            "Generation: 350Accuracy(Training)=0.23\n",
            "             :350Accuracy(Test)=0.23\n",
            "Generation: 360Accuracy(Training)=0.33\n",
            "             :360Accuracy(Test)=0.327\n",
            "Generation: 370Accuracy(Training)=0.29\n",
            "             :370Accuracy(Test)=0.25\n",
            "Generation: 380Accuracy(Training)=0.18\n",
            "             :380Accuracy(Test)=0.191\n",
            "Generation: 390Accuracy(Training)=0.36\n",
            "             :390Accuracy(Test)=0.233\n",
            "Generation: 400Accuracy(Training)=0.16\n",
            "             :400Accuracy(Test)=0.16\n",
            "Generation: 410Accuracy(Training)=0.34\n",
            "             :410Accuracy(Test)=0.353\n",
            "Generation: 420Accuracy(Training)=0.4\n",
            "             :420Accuracy(Test)=0.38\n",
            "Generation: 430Accuracy(Training)=0.36\n",
            "             :430Accuracy(Test)=0.297\n",
            "Generation: 440Accuracy(Training)=0.32\n",
            "             :440Accuracy(Test)=0.367\n",
            "Generation: 450Accuracy(Training)=0.36\n",
            "             :450Accuracy(Test)=0.361\n",
            "Generation: 460Accuracy(Training)=0.31\n",
            "             :460Accuracy(Test)=0.357\n",
            "Generation: 470Accuracy(Training)=0.26\n",
            "             :470Accuracy(Test)=0.226\n",
            "Generation: 480Accuracy(Training)=0.1\n",
            "             :480Accuracy(Test)=0.089\n",
            "Generation: 490Accuracy(Training)=0.33\n",
            "             :490Accuracy(Test)=0.264\n",
            "Generation: 500Accuracy(Training)=0.48\n",
            "             :500Accuracy(Test)=0.388\n",
            "Generation: 510Accuracy(Training)=0.31\n",
            "             :510Accuracy(Test)=0.386\n",
            "Generation: 520Accuracy(Training)=0.34\n",
            "             :520Accuracy(Test)=0.329\n",
            "Generation: 530Accuracy(Training)=0.3\n",
            "             :530Accuracy(Test)=0.295\n",
            "Generation: 540Accuracy(Training)=0.24\n",
            "             :540Accuracy(Test)=0.202\n",
            "Generation: 550Accuracy(Training)=0.44\n",
            "             :550Accuracy(Test)=0.395\n",
            "Generation: 560Accuracy(Training)=0.32\n",
            "             :560Accuracy(Test)=0.303\n",
            "Generation: 570Accuracy(Training)=0.34\n",
            "             :570Accuracy(Test)=0.294\n",
            "Generation: 580Accuracy(Training)=0.57\n",
            "             :580Accuracy(Test)=0.463\n",
            "Generation: 590Accuracy(Training)=0.43\n",
            "             :590Accuracy(Test)=0.387\n",
            "Generation: 600Accuracy(Training)=0.38\n",
            "             :600Accuracy(Test)=0.355\n",
            "Generation: 610Accuracy(Training)=0.14\n",
            "             :610Accuracy(Test)=0.214\n",
            "Generation: 620Accuracy(Training)=0.33\n",
            "             :620Accuracy(Test)=0.277\n",
            "Generation: 630Accuracy(Training)=0.36\n",
            "             :630Accuracy(Test)=0.37\n",
            "Generation: 640Accuracy(Training)=0.52\n",
            "             :640Accuracy(Test)=0.434\n",
            "Generation: 650Accuracy(Training)=0.48\n",
            "             :650Accuracy(Test)=0.382\n",
            "Generation: 660Accuracy(Training)=0.29\n",
            "             :660Accuracy(Test)=0.227\n",
            "Generation: 670Accuracy(Training)=0.48\n",
            "             :670Accuracy(Test)=0.391\n",
            "Generation: 680Accuracy(Training)=0.54\n",
            "             :680Accuracy(Test)=0.492\n",
            "Generation: 690Accuracy(Training)=0.44\n",
            "             :690Accuracy(Test)=0.439\n",
            "Generation: 700Accuracy(Training)=0.51\n",
            "             :700Accuracy(Test)=0.365\n",
            "Generation: 710Accuracy(Training)=0.53\n",
            "             :710Accuracy(Test)=0.468\n",
            "Generation: 720Accuracy(Training)=0.45\n",
            "             :720Accuracy(Test)=0.399\n",
            "Generation: 730Accuracy(Training)=0.38\n",
            "             :730Accuracy(Test)=0.311\n",
            "Generation: 740Accuracy(Training)=0.44\n",
            "             :740Accuracy(Test)=0.463\n",
            "Generation: 750Accuracy(Training)=0.48\n",
            "             :750Accuracy(Test)=0.44\n",
            "Generation: 760Accuracy(Training)=0.25\n",
            "             :760Accuracy(Test)=0.255\n",
            "Generation: 770Accuracy(Training)=0.35\n",
            "             :770Accuracy(Test)=0.424\n",
            "Generation: 780Accuracy(Training)=0.56\n",
            "             :780Accuracy(Test)=0.505\n",
            "Generation: 790Accuracy(Training)=0.36\n",
            "             :790Accuracy(Test)=0.276\n",
            "Generation: 800Accuracy(Training)=0.39\n",
            "             :800Accuracy(Test)=0.36\n",
            "Generation: 810Accuracy(Training)=0.43\n",
            "             :810Accuracy(Test)=0.357\n",
            "Generation: 820Accuracy(Training)=0.31\n",
            "             :820Accuracy(Test)=0.316\n",
            "Generation: 830Accuracy(Training)=0.43\n",
            "             :830Accuracy(Test)=0.442\n",
            "Generation: 840Accuracy(Training)=0.47\n",
            "             :840Accuracy(Test)=0.432\n",
            "Generation: 850Accuracy(Training)=0.5\n",
            "             :850Accuracy(Test)=0.422\n",
            "Generation: 860Accuracy(Training)=0.57\n",
            "             :860Accuracy(Test)=0.5\n",
            "Generation: 870Accuracy(Training)=0.45\n",
            "             :870Accuracy(Test)=0.41\n",
            "Generation: 880Accuracy(Training)=0.45\n",
            "             :880Accuracy(Test)=0.369\n",
            "Generation: 890Accuracy(Training)=0.37\n",
            "             :890Accuracy(Test)=0.432\n",
            "Generation: 900Accuracy(Training)=0.43\n",
            "             :900Accuracy(Test)=0.414\n",
            "Generation: 910Accuracy(Training)=0.46\n",
            "             :910Accuracy(Test)=0.401\n",
            "Generation: 920Accuracy(Training)=0.42\n",
            "             :920Accuracy(Test)=0.416\n",
            "Generation: 930Accuracy(Training)=0.28\n",
            "             :930Accuracy(Test)=0.335\n",
            "Generation: 940Accuracy(Training)=0.54\n",
            "             :940Accuracy(Test)=0.413\n",
            "Generation: 950Accuracy(Training)=0.39\n",
            "             :950Accuracy(Test)=0.265\n",
            "Generation: 960Accuracy(Training)=0.45\n",
            "             :960Accuracy(Test)=0.345\n",
            "Generation: 970Accuracy(Training)=0.43\n",
            "             :970Accuracy(Test)=0.386\n",
            "Generation: 980Accuracy(Training)=0.54\n",
            "             :980Accuracy(Test)=0.428\n",
            "Generation: 990Accuracy(Training)=0.47\n",
            "             :990Accuracy(Test)=0.315\n",
            "Generation: 1000Accuracy(Training)=0.46\n",
            "             :1000Accuracy(Test)=0.348\n"
          ],
          "name": "stdout"
        }
      ]
    },
    {
      "cell_type": "markdown",
      "metadata": {
        "id": "x85n3tbEHIJx"
      },
      "source": [
        "# `グラフ表示`"
      ]
    },
    {
      "cell_type": "code",
      "metadata": {
        "id": "CyhXc8FJueE0",
        "colab": {
          "base_uri": "https://localhost:8080/",
          "height": 295
        },
        "outputId": "9052489b-12fd-4ee2-df06-023cd2bcc173"
      },
      "source": [
        "\n",
        "lists = range(0, iters_num, plot_interval)\n",
        "plt.plot(lists, accuracies_train, label=\"training set\")\n",
        "plt.plot(lists, accuracies_test,  label=\"test set\")\n",
        "plt.legend(loc=\"lower right\")\n",
        "plt.title(\"accuracy\")\n",
        "plt.xlabel(\"count\")\n",
        "plt.ylabel(\"accuracy\")\n",
        "plt.ylim(0, 1.0)\n",
        "# グラフの表示\n",
        "plt.show()"
      ],
      "execution_count": 43,
      "outputs": [
        {
          "output_type": "display_data",
          "data": {
            "image/png": "[encoded data removed]",
            "text/plain": [
              "<Figure size 432x288 with 1 Axes>"
            ]
          },
          "metadata": {
            "tags": [],
            "needs_background": "light"
          }
        }
      ]
    },
    {
      "cell_type": "markdown",
      "metadata": {
        "id": "v8AH400idpTk"
      },
      "source": [
        "# 終わり"
      ]
    },
    {
      "cell_type": "code",
      "metadata": {
        "id": "bdBIu4za5umf",
        "colab": {
          "base_uri": "https://localhost:8080/"
        },
        "outputId": "1f3fc7e2-bfa6-4f52-fd98-69520f299da3"
      },
      "source": [
        "#終了時刻\n",
        "finish_time = datetime.datetime.now(datetime.timezone(datetime.timedelta(hours=9)))\n",
        "print(\"finish_time=\",finish_time)\n",
        "print(\"total_time=\",finish_time-start_time)\n"
      ],
      "execution_count": 44,
      "outputs": [
        {
          "output_type": "stream",
          "text": [
            "finish_time= 2021-04-29 21:56:34.396507+09:00\n",
            "total_time= 0:06:22.446535\n"
          ],
          "name": "stdout"
        }
      ]
    }
  ]
}