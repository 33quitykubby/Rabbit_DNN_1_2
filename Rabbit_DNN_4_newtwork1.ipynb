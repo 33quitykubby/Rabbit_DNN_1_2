{
  "nbformat": 4,
  "nbformat_minor": 0,
  "metadata": {
    "colab": {
      "name": "Rabbit_DNN_4_newtwork1.ipynb",
      "provenance": [],
      "collapsed_sections": [],
      "toc_visible": true,
      "include_colab_link": true
    },
    "kernelspec": {
      "display_name": "Python 3",
      "name": "python3"
    }
  },
  "cells": [
    {
      "cell_type": "markdown",
      "metadata": {
        "id": "view-in-github",
        "colab_type": "text"
      },
      "source": [
        "<a href=\"https://colab.research.google.com/github/33quitykubby/Rabbit_DNN_1_2/blob/main/Rabbit_DNN_4_newtwork1.ipynb\" target=\"_parent\"><img src=\"https://colab.research.google.com/assets/colab-badge.svg\" alt=\"Open In Colab\"/></a>"
      ]
    },
    {
      "cell_type": "markdown",
      "metadata": {
        "id": "ndo0gsKs29oE"
      },
      "source": [
        "# 2層DNN\n",
        "\n",
        "サンプルコード2_1_network_modified.ipynb\n",
        "写経  \n",
        "学習が進み、最後に過学習になる\n"
      ]
    },
    {
      "cell_type": "markdown",
      "metadata": {
        "id": "aFawz7zCioGw"
      },
      "source": [
        "# 日本時間にする"
      ]
    },
    {
      "cell_type": "code",
      "metadata": {
        "colab": {
          "base_uri": "https://localhost:8080/"
        },
        "id": "Qqk7xVQXilAv",
        "outputId": "f4b5ad4c-d882-4e95-89ec-b1026d5c5eae"
      },
      "source": [
        "  !rm /etc/localtime\n",
        "  !ln -s /usr/share/zoneinfo/Asia/Tokyo /etc/localtime\n",
        "  !date"
      ],
      "execution_count": null,
      "outputs": [
        {
          "output_type": "stream",
          "text": [
            "Wed Apr 28 19:52:55 JST 2021\n"
          ],
          "name": "stdout"
        }
      ]
    },
    {
      "cell_type": "markdown",
      "metadata": {
        "id": "0XSgZcpT4tkC"
      },
      "source": [
        "# ライブラリのインポート"
      ]
    },
    {
      "cell_type": "code",
      "metadata": {
        "id": "9hlcGt_j4tkD"
      },
      "source": [
        "import pandas as pd\n",
        "import numpy as np\n",
        "\n",
        "from matplotlib import pyplot as plt\n",
        "%matplotlib inline\n",
        "\n",
        "import os\n",
        "import glob\n",
        "\n",
        "import librosa\n",
        "\n",
        "import datetime\n",
        "\n",
        "import gc\n",
        "\n",
        "from sklearn.datasets import load_boston\n",
        "from pandas import DataFrame"
      ],
      "execution_count": null,
      "outputs": []
    },
    {
      "cell_type": "code",
      "metadata": {
        "colab": {
          "base_uri": "https://localhost:8080/"
        },
        "id": "l3Kfi-5YVRYV",
        "outputId": "b2428462-cc61-4e71-a1f8-a1637d44ebfe"
      },
      "source": [
        "#開始時刻\n",
        "start_time = datetime.datetime.now(datetime.timezone(datetime.timedelta(hours=9)))\n",
        "print(\"start_time=\",start_time)"
      ],
      "execution_count": null,
      "outputs": [
        {
          "output_type": "stream",
          "text": [
            "start_time= 2021-04-28 19:52:56.207625+09:00\n"
          ],
          "name": "stdout"
        }
      ]
    },
    {
      "cell_type": "markdown",
      "metadata": {
        "id": "UdzrJm_XYr17"
      },
      "source": [
        "# 乱数シードの初期化\n",
        "\n",
        "\n",
        "\n",
        "\n"
      ]
    },
    {
      "cell_type": "code",
      "metadata": {
        "id": "wNUHyFvYF1_Z"
      },
      "source": [
        "import os \n",
        "import numpy as np\n",
        "from sklearn import model_selection\n",
        "import tensorflow as tf\n",
        "import random\n",
        "\n",
        "COMMON_SEED = 0\n",
        "STANDARD_SEED = 0\n",
        "NP_SEED = 0\n",
        "TF_SEED = 0 \n",
        "\n",
        "# np.random.seed(STANDARD_SEED)\n",
        "# random.seed(NP_SEED)\n",
        "# tf.random.set_seed(TF_SEED)\n",
        "\n",
        "def seed_everything():\n",
        "    random.seed(STANDARD_SEED)\n",
        "    os.environ['PYTHONHASHSEED'] = str(COMMON_SEED)\n",
        "    os.environ['TF_DETERMINISTIC_OPS'] = '1'\n",
        "    os.environ['TF_CUDNN_DETERMINISTIC'] = '1'\n",
        "    np.random.seed(NP_SEED)\n",
        "    tf.random.set_seed(TF_SEED)\n",
        "    session_conf = tf.compat.v1.ConfigProto(\n",
        "        intra_op_parallelism_threads=1,\n",
        "        inter_op_parallelism_threads=1\n",
        "    )\n",
        "    sess = tf.compat.v1.Session(graph=tf.compat.v1.get_default_graph(), config=session_conf)\n",
        "    tf.compat.v1.keras.backend.set_session(sess)\n"
      ],
      "execution_count": null,
      "outputs": []
    },
    {
      "cell_type": "code",
      "metadata": {
        "id": "9AOmh1f2uhww"
      },
      "source": [
        "#乱数シード固定\n",
        "\n",
        "seed_everything()"
      ],
      "execution_count": null,
      "outputs": []
    },
    {
      "cell_type": "markdown",
      "metadata": {
        "id": "V3KtRk3Eipe8"
      },
      "source": [
        "# パス定義"
      ]
    },
    {
      "cell_type": "code",
      "metadata": {
        "colab": {
          "base_uri": "https://localhost:8080/"
        },
        "id": "lYt61qQ_SJAA",
        "outputId": "544381a1-68e5-4978-ce95-d0fd71617566"
      },
      "source": [
        "from google.colab import drive\n",
        "drive.mount('/content/drive')"
      ],
      "execution_count": null,
      "outputs": [
        {
          "output_type": "stream",
          "text": [
            "Drive already mounted at /content/drive; to attempt to forcibly remount, call drive.mount(\"/content/drive\", force_remount=True).\n"
          ],
          "name": "stdout"
        }
      ]
    },
    {
      "cell_type": "code",
      "metadata": {
        "id": "0EErzFsxdELb"
      },
      "source": [
        ""
      ],
      "execution_count": null,
      "outputs": []
    },
    {
      "cell_type": "markdown",
      "metadata": {
        "id": "KOFeuuWHcP6U"
      },
      "source": [
        "## class Relu"
      ]
    },
    {
      "cell_type": "code",
      "metadata": {
        "id": "ni4wSFj1cSay"
      },
      "source": [
        "class Relu:\n",
        "  def __init__(self):\n",
        "    self.mask = None\n",
        "  \n",
        "  def forward(self, x):\n",
        "    self.mask = ( x <= 0 )\n",
        "    out = x.copy()\n",
        "    # Trueの箇所を0にする\n",
        "    out[self.mask] = 0\n",
        "  \n",
        "    return out\n",
        "\n",
        "  def backward(self, dout):\n",
        "    self.mask = ( dout > 0)\n",
        "    out = dout.copy()\n",
        "    # Trueの箇所を0にする\n",
        "    dout[self.mask] = 0\n",
        "    dx = dout\n",
        "\n",
        "    return dx\n",
        "  \n",
        "\n"
      ],
      "execution_count": null,
      "outputs": []
    },
    {
      "cell_type": "markdown",
      "metadata": {
        "id": "eNNn8T4Fdo9X"
      },
      "source": [
        "## class Affine（全結合層）\n",
        "\n",
        "$$dout = x・W + b$$"
      ]
    },
    {
      "cell_type": "code",
      "metadata": {
        "id": "7uPXKlnpdu5M"
      },
      "source": [
        "class Affine:\n",
        "  def __init__(self, W, b):\n",
        "    self.W = W\n",
        "    self.b = b\n",
        "\n",
        "    self.x = None\n",
        "    self.original_x_shape = None\n",
        "    \n",
        "    #重み、バイアスの微分\n",
        "    self.dW = None\n",
        "    self.db = None\n",
        "  \n",
        "  def forward(self, x):\n",
        "    #　テンソル対応\n",
        "    self.original_x_shape = x.shape\n",
        "    # print(\"x.org.shape=\",self.original_x_shape)\n",
        "    x = x.reshape(x.shape[0], -1)\n",
        "    self.x = x\n",
        "    # print(\"x.shape=\",self.x.shape)\n",
        "\n",
        "    out = np.dot(self.x, self.W) + self.b\n",
        "\n",
        "    return out\n",
        "\n",
        "  def backward(self, dout):\n",
        "    dx = np.dot(dout, self.W.T)\n",
        "    self.dW = np.dot(self.x.T, dout)\n",
        "    self.db = np.sum(dout,axis=0)\n",
        "\n",
        "    # 入力データの形状にもどしてあげる\n",
        "    dx = dx.reshape(*self.original_x_shape)\n",
        "    return dx\n"
      ],
      "execution_count": null,
      "outputs": []
    },
    {
      "cell_type": "markdown",
      "metadata": {
        "id": "OYmTI4E9HmEg"
      },
      "source": [
        "## class SoftmaxWithLoss"
      ]
    },
    {
      "cell_type": "code",
      "metadata": {
        "id": "SiB4cUqWItN5"
      },
      "source": [
        "class SoftmaxWithLoss:\n",
        "  def __init__(self):\n",
        "    self.loss = None\n",
        "    self.y = None\n",
        "    self.d = None\n",
        "\n",
        "  def softmax(self, x):\n",
        "    if x.ndim == 2:\n",
        "      x = x.T\n",
        "      x = x - np.max(x, axis=0)\n",
        "      y = np.exp(x) / np.sum(np.exp(x), axis=0)\n",
        "      return y.T\n",
        "\n",
        "    x = x - np.max(x) # オーバーフロー対策\n",
        "    return np.exp(x) / np.sum(np.exp(x))\n",
        "\n",
        "  def cross_entropy_error(self, d, y):\n",
        "    if y.ndim == 1:\n",
        "      d = d.reshape(1, d.size)\n",
        "      y = y.reshape(1, y.size)\n",
        "\n",
        "    #教師データがone-hotの場合、正解ラベルのインデックスに変換\n",
        "    if d.size == y.size:\n",
        "      d = d.argmax(axis=1)\n",
        "\n",
        "    batch_size = y.shape[0]\n",
        "    return -np.sum(np.log(y[np.arange(batch_size), d] + 1e-7)) / batch_size\n",
        "\n",
        "  def forward(self, x, d):\n",
        "    self.d = d\n",
        "    self.y = self.softmax(x)\n",
        "    self.loss = self.cross_entropy_error(self.d, self.y)\n",
        "\n",
        "    return self.loss\n",
        "\n",
        "  def backward(self, dout=1):\n",
        "    batch_size = self.d.shape[0]\n",
        "    if self.d.size == self.y.size: # 教師データがone-hotの場合\n",
        "      dx = (self.y - self.d) / batch_size\n",
        "    else:\n",
        "      dx = self.y.copy()\n",
        "      dx[np.arange(batch_size), self.d] -= 1\n",
        "      dx = dx / batch_size\n",
        "\n",
        "    return dx"
      ],
      "execution_count": null,
      "outputs": []
    },
    {
      "cell_type": "markdown",
      "metadata": {
        "id": "iqVbCZUyk7L2"
      },
      "source": [
        "# 2層DNN"
      ]
    },
    {
      "cell_type": "code",
      "metadata": {
        "id": "59aLTTtZk_Kj"
      },
      "source": [
        "import collections\n",
        "\n",
        "class TwoLayerNet:\n",
        "\n",
        "  #input_size 入力層のノード数\n",
        "  # hidden_size:隠れ層のノード数\n",
        "  # output_size:出力層のノード数\n",
        "  # weight_init_std:重みの初期化方法\n",
        "\n",
        "  def __init__(self, input_size, hidden_size, output_size, weight_init_std =0.01):\n",
        "    #重みの初期化\n",
        "    self.params={}\n",
        "    self.params['W1'] = weight_init_std * np.random.randn(input_size,hidden_size)\n",
        "    self.params['W2'] = weight_init_std * np.random.randn(hidden_size, output_size)\n",
        "    self.params['b1'] = np.zeros(hidden_size)\n",
        "    self.params['b2'] = np.zeros(output_size)\n",
        "\n",
        "    #レイヤの生成\n",
        "    self.layers = collections.OrderedDict()\n",
        "    self.layers['Affine1'] = Affine(self.params['W1'], self.params['b1'])\n",
        "    self.layers['Relu1'] = Relu()\n",
        "    self.layers['Affine2'] = Affine(self.params['W2'], self.params['b2'])\n",
        "\n",
        "    self.lastLayer = SoftmaxWithLoss()\n",
        "\n",
        "  #順伝播\n",
        "  def predict(self, x):\n",
        "    for layer in self.layers.values():\n",
        "      x = layer.forward(x)\n",
        "\n",
        "    return x\n",
        "\n",
        "  #誤差\n",
        "  def loss(self, x, d):\n",
        "    y = self.predict(x)\n",
        "    return self.lastLayer.forward(y, d)\n",
        "\n",
        "  #精度\n",
        "  def accuracy(self, x, d):\n",
        "    y = self.predict(x)\n",
        "    y = np.argmax(y, axis=1)\n",
        "    if d.ndim != 1 :\n",
        "      d = np.argmax(d, axis=1)\n",
        "\n",
        "    accuracy = np.sum(y == d) / float(x.shape[0])\n",
        "    return accuracy\n",
        "\n",
        "  # 勾配\n",
        "  def gradient(self, x, d):\n",
        "    #forward\n",
        "    self.loss(x, d)\n",
        "\n",
        "    #backward\n",
        "    dout = 1\n",
        "    dout = self.lastLayer.backward(dout)\n",
        "\n",
        "    layers = list(self.layers.values())\n",
        "    layers.reverse()\n",
        "    for layer in layers:\n",
        "      dout = layer.backward(dout)\n",
        "\n",
        "    #設定\n",
        "    grad = {}\n",
        "    grad['W1'], grad['b1'] = self.layers['Affine1'].dW, self.layers['Affine1'].db \n",
        "    grad['W2'], grad['b2'] = self.layers['Affine2'].dW, self.layers['Affine2'].db \n",
        "\n",
        "    return grad"
      ],
      "execution_count": null,
      "outputs": []
    },
    {
      "cell_type": "markdown",
      "metadata": {
        "id": "IZPtEEH2RXXk"
      },
      "source": [
        "# MNISTデータ読み込み"
      ]
    },
    {
      "cell_type": "code",
      "metadata": {
        "id": "1rObaIT6RaVS"
      },
      "source": [
        "import gzip\n",
        "import pickle\n",
        "\n",
        "url_base = 'http://yann.lecun.com/exdb/mnist/'\n",
        "key_file = {\n",
        "    'train_img':'train-images-idx3-ubyte.gz',\n",
        "    'train_label':'train-labels-idx1-ubyte.gz',\n",
        "    'test_img':'t10k-images-idx3-ubyte.gz',\n",
        "    'test_label':'t10k-labels-idx1-ubyte.gz'\n",
        "}\n",
        "\n",
        "# dataset_dir = os.path.dirname(os.path.abspath(__file__))\n",
        "dataset_dir = '/content/drive/MyDrive/RabbitChallenge/DNN_code_colab_lesson_1_2/data'\n",
        "save_file = dataset_dir + \"/mnist.pkl\"\n",
        "\n",
        "train_num = 60000\n",
        "test_num = 10000\n",
        "img_dim = (1, 28, 28)\n",
        "img_size = 784\n",
        "\n",
        "\n",
        "def _download(file_name):\n",
        "    file_path = dataset_dir + \"/\" + file_name\n",
        "    \n",
        "    if os.path.exists(file_path):\n",
        "        return\n",
        "\n",
        "    print(\"Downloading \" + file_name + \" ... \")\n",
        "    urllib.request.urlretrieve(url_base + file_name, file_path)\n",
        "    print(\"Done\")\n",
        "    \n",
        "def download_mnist():\n",
        "    for v in key_file.values():\n",
        "       _download(v)\n",
        "        \n",
        "def _load_label(file_name):\n",
        "    file_path = dataset_dir + \"/\" + file_name\n",
        "    \n",
        "    print(\"Converting \" + file_name + \" to NumPy Array ...\")\n",
        "    with gzip.open(file_path, 'rb') as f:\n",
        "            labels = np.frombuffer(f.read(), np.uint8, offset=8)\n",
        "    print(\"Done\")\n",
        "    \n",
        "    return labels\n",
        "\n",
        "def _load_img(file_name):\n",
        "    file_path = dataset_dir + \"/\" + file_name\n",
        "    \n",
        "    print(\"Converting \" + file_name + \" to NumPy Array ...\")    \n",
        "    with gzip.open(file_path, 'rb') as f:\n",
        "            data = np.frombuffer(f.read(), np.uint8, offset=16)\n",
        "    data = data.reshape(-1, img_size)\n",
        "    print(\"Done\")\n",
        "    \n",
        "    return data\n",
        "    \n",
        "def _convert_numpy():\n",
        "    dataset = {}\n",
        "    dataset['train_img'] =  _load_img(key_file['train_img'])\n",
        "    dataset['train_label'] = _load_label(key_file['train_label'])    \n",
        "    dataset['test_img'] = _load_img(key_file['test_img'])\n",
        "    dataset['test_label'] = _load_label(key_file['test_label'])\n",
        "    \n",
        "    return dataset\n",
        "\n",
        "def init_mnist():\n",
        "    download_mnist()\n",
        "    dataset = _convert_numpy()\n",
        "    print(\"Creating pickle file ...\")\n",
        "    with open(save_file, 'wb') as f:\n",
        "        pickle.dump(dataset, f, -1)\n",
        "    print(\"Done!\")\n",
        "\n",
        "def _change_one_hot_label(X):\n",
        "    T = np.zeros((X.size, 10))\n",
        "    for idx, row in enumerate(T):\n",
        "        row[X[idx]] = 1\n",
        "        \n",
        "    return T\n",
        "    \n",
        "def load_mnist(normalize=True, flatten=True, one_hot_label=False):\n",
        "    \"\"\"MNISTデータセットの読み込み\n",
        "    \n",
        "    Parameters\n",
        "    ----------\n",
        "    normalize : 画像のピクセル値を0.0~1.0に正規化する\n",
        "    one_hot_label : \n",
        "        one_hot_labelがTrueの場合、ラベルはone-hot配列として返す\n",
        "        one-hot配列とは、たとえば[0,0,1,0,0,0,0,0,0,0]のような配列\n",
        "    flatten : 画像を一次元配列に平にするかどうか \n",
        "    \n",
        "    Returns\n",
        "    -------\n",
        "    (訓練画像, 訓練ラベル), (テスト画像, テストラベル)\n",
        "    \"\"\"\n",
        "    if not os.path.exists(save_file):\n",
        "        init_mnist()\n",
        "        \n",
        "    with open(save_file, 'rb') as f:\n",
        "        dataset = pickle.load(f)\n",
        "    \n",
        "    if normalize:\n",
        "        for key in ('train_img', 'test_img'):\n",
        "            dataset[key] = dataset[key].astype(np.float32)\n",
        "            dataset[key] /= 255.0\n",
        "            \n",
        "    if one_hot_label:\n",
        "        dataset['train_label'] = _change_one_hot_label(dataset['train_label'])\n",
        "        dataset['test_label'] = _change_one_hot_label(dataset['test_label'])\n",
        "    \n",
        "    if not flatten:\n",
        "         for key in ('train_img', 'test_img'):\n",
        "            dataset[key] = dataset[key].reshape(-1, 1, 28, 28)\n",
        "\n",
        "    return (dataset['train_img'], dataset['train_label']), (dataset['test_img'], dataset['test_label']) \n"
      ],
      "execution_count": null,
      "outputs": []
    },
    {
      "cell_type": "markdown",
      "metadata": {
        "id": "vhGKjzPiq_Qf"
      },
      "source": [
        "# MNIST Sample"
      ]
    },
    {
      "cell_type": "code",
      "metadata": {
        "id": "-iF7zNYxrDuw",
        "colab": {
          "base_uri": "https://localhost:8080/"
        },
        "outputId": "33f3a9ea-94da-4fa1-e0c8-cbe8b305e941"
      },
      "source": [
        "# データの読み込み\n",
        "(x_train, d_train), (x_test, d_test) = load_mnist(normalize=True, one_hot_label=True)\n",
        "\n",
        "print(\"data read finish\")\n",
        "\n",
        "network = TwoLayerNet(input_size=784, hidden_size=40, output_size=10)\n",
        "\n",
        "iters_num = 2000\n",
        "train_size = x_train.shape[0]\n",
        "batch_size = 100\n",
        "learning_rate = 0.01\n",
        "\n",
        "train_loss_list = []\n",
        "accuracies_train = []\n",
        "accuracies_test = []\n",
        "\n",
        "plot_interval = 10\n",
        "\n",
        "for i in range(iters_num):\n",
        "  batch_mask = np.random.choice(train_size, batch_size)\n",
        "  x_batch = x_train[batch_mask]\n",
        "  d_batch = d_train[batch_mask]\n",
        "\n",
        "  # 勾配\n",
        "  grad = network.gradient(x_batch, d_batch)\n",
        "\n",
        "  for key in ('W1', 'W2', 'b1', 'b2'):\n",
        "    network.params[key] -= learning_rate * grad[key] # SGD\n",
        "\n",
        "  loss = network.loss(x_batch, d_batch)\n",
        "  train_loss_list.append(loss)\n",
        "\n",
        "  if (i + 1) % plot_interval == 0:\n",
        "    accr_test = network.accuracy(x_test, d_test)\n",
        "    accuracies_test.append(accr_test)\n",
        "    accr_train = network.accuracy(x_batch, d_batch)\n",
        "    accuracies_train.append(accr_train)\n",
        "\n",
        "    print('Generation: ' + str(i+1)+ 'Accuracy(Training)=' + str(accr_train))\n",
        "    print('             :'+ str(i+1)+ 'Accuracy(Test)=' + str(accr_test))"
      ],
      "execution_count": null,
      "outputs": [
        {
          "output_type": "stream",
          "text": [
            "data read finish\n",
            "Generation: 10Accuracy(Training)=0.07\n",
            "             :10Accuracy(Test)=0.0979\n",
            "Generation: 20Accuracy(Training)=0.12\n",
            "             :20Accuracy(Test)=0.1094\n",
            "Generation: 30Accuracy(Training)=0.18\n",
            "             :30Accuracy(Test)=0.1179\n",
            "Generation: 40Accuracy(Training)=0.09\n",
            "             :40Accuracy(Test)=0.1172\n",
            "Generation: 50Accuracy(Training)=0.15\n",
            "             :50Accuracy(Test)=0.1189\n",
            "Generation: 60Accuracy(Training)=0.12\n",
            "             :60Accuracy(Test)=0.1439\n",
            "Generation: 70Accuracy(Training)=0.14\n",
            "             :70Accuracy(Test)=0.1764\n",
            "Generation: 80Accuracy(Training)=0.21\n",
            "             :80Accuracy(Test)=0.1857\n",
            "Generation: 90Accuracy(Training)=0.13\n",
            "             :90Accuracy(Test)=0.2027\n",
            "Generation: 100Accuracy(Training)=0.19\n",
            "             :100Accuracy(Test)=0.2008\n",
            "Generation: 110Accuracy(Training)=0.23\n",
            "             :110Accuracy(Test)=0.2184\n",
            "Generation: 120Accuracy(Training)=0.22\n",
            "             :120Accuracy(Test)=0.1996\n",
            "Generation: 130Accuracy(Training)=0.21\n",
            "             :130Accuracy(Test)=0.2174\n",
            "Generation: 140Accuracy(Training)=0.23\n",
            "             :140Accuracy(Test)=0.196\n",
            "Generation: 150Accuracy(Training)=0.21\n",
            "             :150Accuracy(Test)=0.2059\n",
            "Generation: 160Accuracy(Training)=0.17\n",
            "             :160Accuracy(Test)=0.1931\n",
            "Generation: 170Accuracy(Training)=0.14\n",
            "             :170Accuracy(Test)=0.1874\n",
            "Generation: 180Accuracy(Training)=0.19\n",
            "             :180Accuracy(Test)=0.1783\n",
            "Generation: 190Accuracy(Training)=0.18\n",
            "             :190Accuracy(Test)=0.1822\n",
            "Generation: 200Accuracy(Training)=0.16\n",
            "             :200Accuracy(Test)=0.1253\n",
            "Generation: 210Accuracy(Training)=0.17\n",
            "             :210Accuracy(Test)=0.1177\n",
            "Generation: 220Accuracy(Training)=0.12\n",
            "             :220Accuracy(Test)=0.1001\n",
            "Generation: 230Accuracy(Training)=0.08\n",
            "             :230Accuracy(Test)=0.1051\n",
            "Generation: 240Accuracy(Training)=0.12\n",
            "             :240Accuracy(Test)=0.0985\n",
            "Generation: 250Accuracy(Training)=0.1\n",
            "             :250Accuracy(Test)=0.1023\n",
            "Generation: 260Accuracy(Training)=0.12\n",
            "             :260Accuracy(Test)=0.1051\n",
            "Generation: 270Accuracy(Training)=0.17\n",
            "             :270Accuracy(Test)=0.1826\n",
            "Generation: 280Accuracy(Training)=0.13\n",
            "             :280Accuracy(Test)=0.1143\n",
            "Generation: 290Accuracy(Training)=0.14\n",
            "             :290Accuracy(Test)=0.0981\n",
            "Generation: 300Accuracy(Training)=0.16\n",
            "             :300Accuracy(Test)=0.0981\n",
            "Generation: 310Accuracy(Training)=0.14\n",
            "             :310Accuracy(Test)=0.0985\n",
            "Generation: 320Accuracy(Training)=0.07\n",
            "             :320Accuracy(Test)=0.0991\n",
            "Generation: 330Accuracy(Training)=0.13\n",
            "             :330Accuracy(Test)=0.1127\n",
            "Generation: 340Accuracy(Training)=0.12\n",
            "             :340Accuracy(Test)=0.1326\n",
            "Generation: 350Accuracy(Training)=0.14\n",
            "             :350Accuracy(Test)=0.1723\n",
            "Generation: 360Accuracy(Training)=0.14\n",
            "             :360Accuracy(Test)=0.1331\n",
            "Generation: 370Accuracy(Training)=0.18\n",
            "             :370Accuracy(Test)=0.1257\n",
            "Generation: 380Accuracy(Training)=0.24\n",
            "             :380Accuracy(Test)=0.2274\n",
            "Generation: 390Accuracy(Training)=0.23\n",
            "             :390Accuracy(Test)=0.2175\n",
            "Generation: 400Accuracy(Training)=0.17\n",
            "             :400Accuracy(Test)=0.1847\n",
            "Generation: 410Accuracy(Training)=0.12\n",
            "             :410Accuracy(Test)=0.1604\n",
            "Generation: 420Accuracy(Training)=0.26\n",
            "             :420Accuracy(Test)=0.138\n",
            "Generation: 430Accuracy(Training)=0.12\n",
            "             :430Accuracy(Test)=0.118\n",
            "Generation: 440Accuracy(Training)=0.25\n",
            "             :440Accuracy(Test)=0.2247\n",
            "Generation: 450Accuracy(Training)=0.23\n",
            "             :450Accuracy(Test)=0.219\n",
            "Generation: 460Accuracy(Training)=0.22\n",
            "             :460Accuracy(Test)=0.2373\n",
            "Generation: 470Accuracy(Training)=0.22\n",
            "             :470Accuracy(Test)=0.2364\n",
            "Generation: 480Accuracy(Training)=0.21\n",
            "             :480Accuracy(Test)=0.2997\n",
            "Generation: 490Accuracy(Training)=0.43\n",
            "             :490Accuracy(Test)=0.3497\n",
            "Generation: 500Accuracy(Training)=0.25\n",
            "             :500Accuracy(Test)=0.2443\n",
            "Generation: 510Accuracy(Training)=0.34\n",
            "             :510Accuracy(Test)=0.3147\n",
            "Generation: 520Accuracy(Training)=0.29\n",
            "             :520Accuracy(Test)=0.3847\n",
            "Generation: 530Accuracy(Training)=0.38\n",
            "             :530Accuracy(Test)=0.3553\n",
            "Generation: 540Accuracy(Training)=0.45\n",
            "             :540Accuracy(Test)=0.4269\n",
            "Generation: 550Accuracy(Training)=0.3\n",
            "             :550Accuracy(Test)=0.382\n",
            "Generation: 560Accuracy(Training)=0.48\n",
            "             :560Accuracy(Test)=0.373\n",
            "Generation: 570Accuracy(Training)=0.36\n",
            "             :570Accuracy(Test)=0.3239\n",
            "Generation: 580Accuracy(Training)=0.4\n",
            "             :580Accuracy(Test)=0.335\n",
            "Generation: 590Accuracy(Training)=0.5\n",
            "             :590Accuracy(Test)=0.4771\n",
            "Generation: 600Accuracy(Training)=0.45\n",
            "             :600Accuracy(Test)=0.4253\n",
            "Generation: 610Accuracy(Training)=0.38\n",
            "             :610Accuracy(Test)=0.3658\n",
            "Generation: 620Accuracy(Training)=0.52\n",
            "             :620Accuracy(Test)=0.5512\n",
            "Generation: 630Accuracy(Training)=0.54\n",
            "             :630Accuracy(Test)=0.4862\n",
            "Generation: 640Accuracy(Training)=0.54\n",
            "             :640Accuracy(Test)=0.4729\n",
            "Generation: 650Accuracy(Training)=0.59\n",
            "             :650Accuracy(Test)=0.5721\n",
            "Generation: 660Accuracy(Training)=0.49\n",
            "             :660Accuracy(Test)=0.4396\n",
            "Generation: 670Accuracy(Training)=0.47\n",
            "             :670Accuracy(Test)=0.4455\n",
            "Generation: 680Accuracy(Training)=0.52\n",
            "             :680Accuracy(Test)=0.5158\n",
            "Generation: 690Accuracy(Training)=0.5\n",
            "             :690Accuracy(Test)=0.5121\n",
            "Generation: 700Accuracy(Training)=0.55\n",
            "             :700Accuracy(Test)=0.4864\n",
            "Generation: 710Accuracy(Training)=0.68\n",
            "             :710Accuracy(Test)=0.6041\n",
            "Generation: 720Accuracy(Training)=0.53\n",
            "             :720Accuracy(Test)=0.5223\n",
            "Generation: 730Accuracy(Training)=0.61\n",
            "             :730Accuracy(Test)=0.5608\n",
            "Generation: 740Accuracy(Training)=0.64\n",
            "             :740Accuracy(Test)=0.5529\n",
            "Generation: 750Accuracy(Training)=0.51\n",
            "             :750Accuracy(Test)=0.534\n",
            "Generation: 760Accuracy(Training)=0.54\n",
            "             :760Accuracy(Test)=0.5706\n",
            "Generation: 770Accuracy(Training)=0.63\n",
            "             :770Accuracy(Test)=0.6057\n",
            "Generation: 780Accuracy(Training)=0.55\n",
            "             :780Accuracy(Test)=0.5444\n",
            "Generation: 790Accuracy(Training)=0.63\n",
            "             :790Accuracy(Test)=0.5311\n",
            "Generation: 800Accuracy(Training)=0.61\n",
            "             :800Accuracy(Test)=0.5874\n",
            "Generation: 810Accuracy(Training)=0.64\n",
            "             :810Accuracy(Test)=0.5922\n",
            "Generation: 820Accuracy(Training)=0.68\n",
            "             :820Accuracy(Test)=0.576\n",
            "Generation: 830Accuracy(Training)=0.54\n",
            "             :830Accuracy(Test)=0.5692\n",
            "Generation: 840Accuracy(Training)=0.61\n",
            "             :840Accuracy(Test)=0.6502\n",
            "Generation: 850Accuracy(Training)=0.68\n",
            "             :850Accuracy(Test)=0.5973\n",
            "Generation: 860Accuracy(Training)=0.64\n",
            "             :860Accuracy(Test)=0.6106\n",
            "Generation: 870Accuracy(Training)=0.63\n",
            "             :870Accuracy(Test)=0.5961\n",
            "Generation: 880Accuracy(Training)=0.62\n",
            "             :880Accuracy(Test)=0.5981\n",
            "Generation: 890Accuracy(Training)=0.63\n",
            "             :890Accuracy(Test)=0.5378\n",
            "Generation: 900Accuracy(Training)=0.63\n",
            "             :900Accuracy(Test)=0.5818\n",
            "Generation: 910Accuracy(Training)=0.66\n",
            "             :910Accuracy(Test)=0.5308\n",
            "Generation: 920Accuracy(Training)=0.62\n",
            "             :920Accuracy(Test)=0.5144\n",
            "Generation: 930Accuracy(Training)=0.7\n",
            "             :930Accuracy(Test)=0.6218\n",
            "Generation: 940Accuracy(Training)=0.76\n",
            "             :940Accuracy(Test)=0.6474\n",
            "Generation: 950Accuracy(Training)=0.62\n",
            "             :950Accuracy(Test)=0.5703\n",
            "Generation: 960Accuracy(Training)=0.7\n",
            "             :960Accuracy(Test)=0.6531\n",
            "Generation: 970Accuracy(Training)=0.64\n",
            "             :970Accuracy(Test)=0.6942\n",
            "Generation: 980Accuracy(Training)=0.63\n",
            "             :980Accuracy(Test)=0.6186\n",
            "Generation: 990Accuracy(Training)=0.68\n",
            "             :990Accuracy(Test)=0.67\n",
            "Generation: 1000Accuracy(Training)=0.62\n",
            "             :1000Accuracy(Test)=0.6384\n",
            "Generation: 1010Accuracy(Training)=0.64\n",
            "             :1010Accuracy(Test)=0.5819\n",
            "Generation: 1020Accuracy(Training)=0.7\n",
            "             :1020Accuracy(Test)=0.5612\n",
            "Generation: 1030Accuracy(Training)=0.66\n",
            "             :1030Accuracy(Test)=0.6472\n",
            "Generation: 1040Accuracy(Training)=0.72\n",
            "             :1040Accuracy(Test)=0.7073\n",
            "Generation: 1050Accuracy(Training)=0.7\n",
            "             :1050Accuracy(Test)=0.6382\n",
            "Generation: 1060Accuracy(Training)=0.77\n",
            "             :1060Accuracy(Test)=0.622\n",
            "Generation: 1070Accuracy(Training)=0.68\n",
            "             :1070Accuracy(Test)=0.607\n",
            "Generation: 1080Accuracy(Training)=0.59\n",
            "             :1080Accuracy(Test)=0.6752\n",
            "Generation: 1090Accuracy(Training)=0.7\n",
            "             :1090Accuracy(Test)=0.6214\n",
            "Generation: 1100Accuracy(Training)=0.64\n",
            "             :1100Accuracy(Test)=0.6703\n",
            "Generation: 1110Accuracy(Training)=0.56\n",
            "             :1110Accuracy(Test)=0.4864\n",
            "Generation: 1120Accuracy(Training)=0.65\n",
            "             :1120Accuracy(Test)=0.6011\n",
            "Generation: 1130Accuracy(Training)=0.73\n",
            "             :1130Accuracy(Test)=0.6839\n",
            "Generation: 1140Accuracy(Training)=0.71\n",
            "             :1140Accuracy(Test)=0.676\n",
            "Generation: 1150Accuracy(Training)=0.58\n",
            "             :1150Accuracy(Test)=0.6086\n",
            "Generation: 1160Accuracy(Training)=0.63\n",
            "             :1160Accuracy(Test)=0.6036\n",
            "Generation: 1170Accuracy(Training)=0.6\n",
            "             :1170Accuracy(Test)=0.6153\n",
            "Generation: 1180Accuracy(Training)=0.65\n",
            "             :1180Accuracy(Test)=0.6086\n",
            "Generation: 1190Accuracy(Training)=0.73\n",
            "             :1190Accuracy(Test)=0.6485\n",
            "Generation: 1200Accuracy(Training)=0.71\n",
            "             :1200Accuracy(Test)=0.7042\n",
            "Generation: 1210Accuracy(Training)=0.66\n",
            "             :1210Accuracy(Test)=0.6468\n",
            "Generation: 1220Accuracy(Training)=0.65\n",
            "             :1220Accuracy(Test)=0.6842\n",
            "Generation: 1230Accuracy(Training)=0.66\n",
            "             :1230Accuracy(Test)=0.5562\n",
            "Generation: 1240Accuracy(Training)=0.74\n",
            "             :1240Accuracy(Test)=0.6623\n",
            "Generation: 1250Accuracy(Training)=0.6\n",
            "             :1250Accuracy(Test)=0.5686\n",
            "Generation: 1260Accuracy(Training)=0.61\n",
            "             :1260Accuracy(Test)=0.6181\n",
            "Generation: 1270Accuracy(Training)=0.62\n",
            "             :1270Accuracy(Test)=0.6291\n",
            "Generation: 1280Accuracy(Training)=0.7\n",
            "             :1280Accuracy(Test)=0.679\n",
            "Generation: 1290Accuracy(Training)=0.6\n",
            "             :1290Accuracy(Test)=0.5472\n",
            "Generation: 1300Accuracy(Training)=0.6\n",
            "             :1300Accuracy(Test)=0.5692\n",
            "Generation: 1310Accuracy(Training)=0.64\n",
            "             :1310Accuracy(Test)=0.5409\n",
            "Generation: 1320Accuracy(Training)=0.63\n",
            "             :1320Accuracy(Test)=0.6178\n",
            "Generation: 1330Accuracy(Training)=0.74\n",
            "             :1330Accuracy(Test)=0.7165\n",
            "Generation: 1340Accuracy(Training)=0.65\n",
            "             :1340Accuracy(Test)=0.5931\n",
            "Generation: 1350Accuracy(Training)=0.68\n",
            "             :1350Accuracy(Test)=0.675\n",
            "Generation: 1360Accuracy(Training)=0.72\n",
            "             :1360Accuracy(Test)=0.619\n",
            "Generation: 1370Accuracy(Training)=0.68\n",
            "             :1370Accuracy(Test)=0.6664\n",
            "Generation: 1380Accuracy(Training)=0.68\n",
            "             :1380Accuracy(Test)=0.6576\n",
            "Generation: 1390Accuracy(Training)=0.69\n",
            "             :1390Accuracy(Test)=0.6951\n",
            "Generation: 1400Accuracy(Training)=0.66\n",
            "             :1400Accuracy(Test)=0.589\n",
            "Generation: 1410Accuracy(Training)=0.72\n",
            "             :1410Accuracy(Test)=0.6703\n",
            "Generation: 1420Accuracy(Training)=0.52\n",
            "             :1420Accuracy(Test)=0.4814\n",
            "Generation: 1430Accuracy(Training)=0.53\n",
            "             :1430Accuracy(Test)=0.5424\n",
            "Generation: 1440Accuracy(Training)=0.55\n",
            "             :1440Accuracy(Test)=0.5164\n",
            "Generation: 1450Accuracy(Training)=0.61\n",
            "             :1450Accuracy(Test)=0.599\n",
            "Generation: 1460Accuracy(Training)=0.64\n",
            "             :1460Accuracy(Test)=0.5504\n",
            "Generation: 1470Accuracy(Training)=0.61\n",
            "             :1470Accuracy(Test)=0.5792\n",
            "Generation: 1480Accuracy(Training)=0.65\n",
            "             :1480Accuracy(Test)=0.5971\n",
            "Generation: 1490Accuracy(Training)=0.56\n",
            "             :1490Accuracy(Test)=0.437\n",
            "Generation: 1500Accuracy(Training)=0.55\n",
            "             :1500Accuracy(Test)=0.4925\n",
            "Generation: 1510Accuracy(Training)=0.63\n",
            "             :1510Accuracy(Test)=0.5735\n",
            "Generation: 1520Accuracy(Training)=0.71\n",
            "             :1520Accuracy(Test)=0.5762\n",
            "Generation: 1530Accuracy(Training)=0.58\n",
            "             :1530Accuracy(Test)=0.5299\n",
            "Generation: 1540Accuracy(Training)=0.58\n",
            "             :1540Accuracy(Test)=0.5452\n",
            "Generation: 1550Accuracy(Training)=0.45\n",
            "             :1550Accuracy(Test)=0.4484\n",
            "Generation: 1560Accuracy(Training)=0.55\n",
            "             :1560Accuracy(Test)=0.5344\n",
            "Generation: 1570Accuracy(Training)=0.48\n",
            "             :1570Accuracy(Test)=0.4406\n",
            "Generation: 1580Accuracy(Training)=0.54\n",
            "             :1580Accuracy(Test)=0.5016\n",
            "Generation: 1590Accuracy(Training)=0.64\n",
            "             :1590Accuracy(Test)=0.5072\n",
            "Generation: 1600Accuracy(Training)=0.59\n",
            "             :1600Accuracy(Test)=0.4677\n",
            "Generation: 1610Accuracy(Training)=0.53\n",
            "             :1610Accuracy(Test)=0.5161\n",
            "Generation: 1620Accuracy(Training)=0.53\n",
            "             :1620Accuracy(Test)=0.4737\n",
            "Generation: 1630Accuracy(Training)=0.53\n",
            "             :1630Accuracy(Test)=0.4633\n",
            "Generation: 1640Accuracy(Training)=0.56\n",
            "             :1640Accuracy(Test)=0.5299\n",
            "Generation: 1650Accuracy(Training)=0.63\n",
            "             :1650Accuracy(Test)=0.5537\n",
            "Generation: 1660Accuracy(Training)=0.48\n",
            "             :1660Accuracy(Test)=0.4584\n",
            "Generation: 1670Accuracy(Training)=0.57\n",
            "             :1670Accuracy(Test)=0.5799\n",
            "Generation: 1680Accuracy(Training)=0.55\n",
            "             :1680Accuracy(Test)=0.566\n",
            "Generation: 1690Accuracy(Training)=0.33\n",
            "             :1690Accuracy(Test)=0.3887\n",
            "Generation: 1700Accuracy(Training)=0.51\n",
            "             :1700Accuracy(Test)=0.3996\n",
            "Generation: 1710Accuracy(Training)=0.55\n",
            "             :1710Accuracy(Test)=0.4454\n",
            "Generation: 1720Accuracy(Training)=0.55\n",
            "             :1720Accuracy(Test)=0.4294\n",
            "Generation: 1730Accuracy(Training)=0.56\n",
            "             :1730Accuracy(Test)=0.4814\n",
            "Generation: 1740Accuracy(Training)=0.55\n",
            "             :1740Accuracy(Test)=0.5625\n",
            "Generation: 1750Accuracy(Training)=0.53\n",
            "             :1750Accuracy(Test)=0.4602\n",
            "Generation: 1760Accuracy(Training)=0.37\n",
            "             :1760Accuracy(Test)=0.3385\n",
            "Generation: 1770Accuracy(Training)=0.58\n",
            "             :1770Accuracy(Test)=0.4912\n",
            "Generation: 1780Accuracy(Training)=0.54\n",
            "             :1780Accuracy(Test)=0.5125\n",
            "Generation: 1790Accuracy(Training)=0.37\n",
            "             :1790Accuracy(Test)=0.398\n",
            "Generation: 1800Accuracy(Training)=0.5\n",
            "             :1800Accuracy(Test)=0.4352\n",
            "Generation: 1810Accuracy(Training)=0.66\n",
            "             :1810Accuracy(Test)=0.5629\n",
            "Generation: 1820Accuracy(Training)=0.41\n",
            "             :1820Accuracy(Test)=0.4463\n",
            "Generation: 1830Accuracy(Training)=0.3\n",
            "             :1830Accuracy(Test)=0.3227\n",
            "Generation: 1840Accuracy(Training)=0.37\n",
            "             :1840Accuracy(Test)=0.4481\n",
            "Generation: 1850Accuracy(Training)=0.33\n",
            "             :1850Accuracy(Test)=0.3713\n",
            "Generation: 1860Accuracy(Training)=0.46\n",
            "             :1860Accuracy(Test)=0.416\n",
            "Generation: 1870Accuracy(Training)=0.43\n",
            "             :1870Accuracy(Test)=0.3963\n",
            "Generation: 1880Accuracy(Training)=0.53\n",
            "             :1880Accuracy(Test)=0.4702\n",
            "Generation: 1890Accuracy(Training)=0.49\n",
            "             :1890Accuracy(Test)=0.4337\n",
            "Generation: 1900Accuracy(Training)=0.42\n",
            "             :1900Accuracy(Test)=0.4291\n",
            "Generation: 1910Accuracy(Training)=0.29\n",
            "             :1910Accuracy(Test)=0.3352\n",
            "Generation: 1920Accuracy(Training)=0.26\n",
            "             :1920Accuracy(Test)=0.2706\n",
            "Generation: 1930Accuracy(Training)=0.54\n",
            "             :1930Accuracy(Test)=0.5069\n",
            "Generation: 1940Accuracy(Training)=0.54\n",
            "             :1940Accuracy(Test)=0.4961\n",
            "Generation: 1950Accuracy(Training)=0.36\n",
            "             :1950Accuracy(Test)=0.3557\n",
            "Generation: 1960Accuracy(Training)=0.4\n",
            "             :1960Accuracy(Test)=0.3901\n",
            "Generation: 1970Accuracy(Training)=0.42\n",
            "             :1970Accuracy(Test)=0.4678\n",
            "Generation: 1980Accuracy(Training)=0.37\n",
            "             :1980Accuracy(Test)=0.3287\n",
            "Generation: 1990Accuracy(Training)=0.41\n",
            "             :1990Accuracy(Test)=0.4684\n",
            "Generation: 2000Accuracy(Training)=0.44\n",
            "             :2000Accuracy(Test)=0.4027\n"
          ],
          "name": "stdout"
        }
      ]
    },
    {
      "cell_type": "markdown",
      "metadata": {
        "id": "x85n3tbEHIJx"
      },
      "source": [
        "# `グラフ表示`"
      ]
    },
    {
      "cell_type": "code",
      "metadata": {
        "id": "CyhXc8FJueE0",
        "colab": {
          "base_uri": "https://localhost:8080/",
          "height": 295
        },
        "outputId": "64b59f43-3664-41f2-bb9d-f17ccf271b7c"
      },
      "source": [
        "\n",
        "lists = range(0, iters_num, plot_interval)\n",
        "plt.plot(lists, accuracies_train, label=\"training set\")\n",
        "plt.plot(lists, accuracies_test,  label=\"test set\")\n",
        "plt.legend(loc=\"lower right\")\n",
        "plt.title(\"accuracy\")\n",
        "plt.xlabel(\"count\")\n",
        "plt.ylabel(\"accuracy\")\n",
        "plt.ylim(0, 1.0)\n",
        "# グラフの表示\n",
        "plt.show()"
      ],
      "execution_count": null,
      "outputs": [
        {
          "output_type": "display_data",
          "data": {
            "image/png": "[encoded data removed]",
            "text/plain": [
              "<Figure size 432x288 with 1 Axes>"
            ]
          },
          "metadata": {
            "tags": [],
            "needs_background": "light"
          }
        }
      ]
    },
    {
      "cell_type": "markdown",
      "metadata": {
        "id": "v8AH400idpTk"
      },
      "source": [
        "# 終わり"
      ]
    },
    {
      "cell_type": "code",
      "metadata": {
        "id": "bdBIu4za5umf",
        "colab": {
          "base_uri": "https://localhost:8080/"
        },
        "outputId": "3944dc84-362e-4083-dfa8-4feb3ef27fd6"
      },
      "source": [
        "#終了時刻\n",
        "finish_time = datetime.datetime.now(datetime.timezone(datetime.timedelta(hours=9)))\n",
        "print(\"finish_time=\",finish_time)\n",
        "print(\"total_time=\",finish_time-start_time)\n"
      ],
      "execution_count": null,
      "outputs": [
        {
          "output_type": "stream",
          "text": [
            "finish_time= 2021-04-28 19:53:13.649633+09:00\n",
            "total_time= 0:00:17.442008\n"
          ],
          "name": "stdout"
        }
      ]
    }
  ]
}